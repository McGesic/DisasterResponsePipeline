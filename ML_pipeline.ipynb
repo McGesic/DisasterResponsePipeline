{
 "cells": [
  {
   "cell_type": "markdown",
   "metadata": {},
   "source": [
    "# ML Pipeline Preparation\n",
    "Follow the instructions below to help you create your ML pipeline.\n",
    "### 1. Import libraries and load data from database.\n",
    "- Import Python libraries\n",
    "- Load dataset from database with [`read_sql_table`](https://pandas.pydata.org/pandas-docs/stable/generated/pandas.read_sql_table.html)\n",
    "- Define feature and target variables X and Y"
   ]
  },
  {
   "cell_type": "code",
   "execution_count": 1,
   "metadata": {},
   "outputs": [
    {
     "name": "stdout",
     "output_type": "stream",
     "text": [
      "[nltk_data] Downloading package punkt to /root/nltk_data...\n",
      "[nltk_data]   Unzipping tokenizers/punkt.zip.\n",
      "[nltk_data] Downloading package wordnet to /root/nltk_data...\n",
      "[nltk_data]   Unzipping corpora/wordnet.zip.\n",
      "[nltk_data] Downloading package averaged_perceptron_tagger to\n",
      "[nltk_data]     /root/nltk_data...\n",
      "[nltk_data]   Unzipping taggers/averaged_perceptron_tagger.zip.\n"
     ]
    }
   ],
   "source": [
    "# import libraries\n",
    "import nltk\n",
    "nltk.download(['punkt', 'wordnet', 'averaged_perceptron_tagger'])\n",
    "\n",
    "#   import re\n",
    "#   import numpy as np\n",
    "import pandas as pd\n",
    "from sqlalchemy import create_engine\n",
    "from nltk.tokenize import word_tokenize\n",
    "from nltk.stem import WordNetLemmatizer\n",
    "\n",
    "from sklearn.multioutput import MultiOutputClassifier\n",
    "\n",
    "from sklearn.metrics import classification_report, precision_recall_fscore_support #confusion_matrix\n",
    "from sklearn.model_selection import GridSearchCV\n",
    "from sklearn.ensemble import RandomForestClassifier, AdaBoostClassifier\n",
    "from sklearn.model_selection import train_test_split\n",
    "from sklearn.pipeline import Pipeline # FeatureUnion\n",
    "#   from sklearn.base import BaseEstimator, TransformerMixin\n",
    "from sklearn.feature_extraction.text import CountVectorizer, TfidfTransformer\n",
    "import pickle "
   ]
  },
  {
   "cell_type": "code",
   "execution_count": 2,
   "metadata": {},
   "outputs": [],
   "source": [
    "# load data from database\n",
    "engine = create_engine('sqlite:///DisasterResponse.db')\n",
    "df = pd.read_sql_table('ETL', con=engine)\n",
    "X = df['message']\n",
    "Y = df.iloc[:,4:]"
   ]
  },
  {
   "cell_type": "code",
   "execution_count": 3,
   "metadata": {},
   "outputs": [
    {
     "data": {
      "text/plain": [
       "(26216,)"
      ]
     },
     "execution_count": 3,
     "metadata": {},
     "output_type": "execute_result"
    }
   ],
   "source": [
    "X.shape"
   ]
  },
  {
   "cell_type": "code",
   "execution_count": 4,
   "metadata": {},
   "outputs": [
    {
     "data": {
      "text/plain": [
       "(26216, 36)"
      ]
     },
     "execution_count": 4,
     "metadata": {},
     "output_type": "execute_result"
    }
   ],
   "source": [
    "Y.shape"
   ]
  },
  {
   "cell_type": "markdown",
   "metadata": {},
   "source": [
    "### 2. Write a tokenization function to process your text data"
   ]
  },
  {
   "cell_type": "code",
   "execution_count": 10,
   "metadata": {},
   "outputs": [],
   "source": [
    "def tokenize(text):\n",
    "\n",
    "    '''Function to process the text: tokenizes the text, converts to lower case, strips out special characters and lemmatizes\n",
    "    \n",
    "    Parameters:\n",
    "    text (str): Raw text to be processed\n",
    "    \n",
    "    Returns:\n",
    "    tokens (list): tokens processed from raw text \n",
    "    \n",
    "    '''\n",
    "    \n",
    "    raw_tokens = word_tokenize(text)\n",
    "    lemmatizer = WordNetLemmatizer()\n",
    "\n",
    "    tokens = []\n",
    "    for token in raw_tokens:\n",
    "        clean_token = lemmatizer.lemmatize(token).lower().strip('^°!\"§$%&/()=?\\}][{+~+#-_.:,;<>|')\n",
    "        tokens.append(clean_token)\n",
    "\n",
    "    return tokens"
   ]
  },
  {
   "cell_type": "code",
   "execution_count": 12,
   "metadata": {},
   "outputs": [
    {
     "name": "stdout",
     "output_type": "stream",
     "text": [
      "['information', 'about', 'the', 'national', 'palace']\n"
     ]
    }
   ],
   "source": [
    "#spot check functionality of tokenize function\n",
    "print(tokenize(X[5]))"
   ]
  },
  {
   "cell_type": "markdown",
   "metadata": {},
   "source": [
    "### 3. Build a machine learning pipeline\n",
    "This machine pipeline should take in the `message` column as input and output classification results on the other 36 categories in the dataset. You may find the [MultiOutputClassifier](http://scikit-learn.org/stable/modules/generated/sklearn.multioutput.MultiOutputClassifier.html) helpful for predicting multiple target variables."
   ]
  },
  {
   "cell_type": "code",
   "execution_count": 13,
   "metadata": {},
   "outputs": [],
   "source": [
    "# create pipeline with vectorizer, tfidf transformer and random forest classifier\n",
    "pipeline1 = Pipeline([\n",
    "                ('vect', CountVectorizer(tokenizer=tokenize)),\n",
    "                ('tfidf', TfidfTransformer()),\n",
    "                ('classifier', MultiOutputClassifier(RandomForestClassifier(random_state=42)))\n",
    "            ])"
   ]
  },
  {
   "cell_type": "markdown",
   "metadata": {},
   "source": [
    "### 4. Train pipeline\n",
    "- Split data into train and test sets\n",
    "- Train pipeline"
   ]
  },
  {
   "cell_type": "code",
   "execution_count": 14,
   "metadata": {},
   "outputs": [
    {
     "data": {
      "text/plain": [
       "Pipeline(memory=None,\n",
       "     steps=[('vect', CountVectorizer(analyzer='word', binary=False, decode_error='strict',\n",
       "        dtype=<class 'numpy.int64'>, encoding='utf-8', input='content',\n",
       "        lowercase=True, max_df=1.0, max_features=None, min_df=1,\n",
       "        ngram_range=(1, 1), preprocessor=None, stop_words=None,\n",
       "        strip...,\n",
       "            oob_score=False, random_state=42, verbose=0, warm_start=False),\n",
       "           n_jobs=1))])"
      ]
     },
     "execution_count": 14,
     "metadata": {},
     "output_type": "execute_result"
    }
   ],
   "source": [
    "# create test and training sets\n",
    "X_train, X_test, Y_train, Y_test = train_test_split(X, Y)\n",
    "\n",
    "#fit defined pipeline1\n",
    "pipeline1.fit(X_train, Y_train)"
   ]
  },
  {
   "cell_type": "markdown",
   "metadata": {},
   "source": [
    "### 5. Test your model\n",
    "Report the f1 score, precision and recall for each output category of the dataset. You can do this by iterating through the columns and calling sklearn's `classification_report` on each."
   ]
  },
  {
   "cell_type": "code",
   "execution_count": 15,
   "metadata": {},
   "outputs": [],
   "source": [
    "#predict based on pipeline1\n",
    "Y_pred1=pd.DataFrame(pipeline1.predict(X_test))"
   ]
  },
  {
   "cell_type": "code",
   "execution_count": 22,
   "metadata": {},
   "outputs": [],
   "source": [
    "def print_metrics(Y_test, Y_pred):\n",
    "    '''Function to print metrics of the prediction, i.e. the precision, recall and fscore of the prediction and to return detailed results in a dataframe\n",
    "    \n",
    "    Parameters:\n",
    "    Y_test (pandas dataframe): Test labels\n",
    "    Y_pred (pandas dataframe): Predicted labels\n",
    "    \n",
    "    Returns:\n",
    "    results (pandas dataframe): details of precision, recall and fscore per category \n",
    "    \n",
    "    '''    \n",
    "    \n",
    "    results=pd.DataFrame()\n",
    "    results['categories']=Y.columns\n",
    "    results.set_index('categories')\n",
    "    results['precision'], results['recall'], results['fscore']='','',''\n",
    "    for category in range(len(Y.columns)):\n",
    "        results['precision'][category]= precision_recall_fscore_support(Y_test.iloc[:,category], Y_pred.iloc[:,category], average='weighted')[0]\n",
    "        results['recall'][category]= precision_recall_fscore_support(Y_test.iloc[:,category], Y_pred.iloc[:,category], average='weighted')[1]\n",
    "        results['fscore'][category]= precision_recall_fscore_support(Y_test.iloc[:,category], Y_pred.iloc[:,category], average='weighted')[2]\n",
    "    print('Overall average precision is: ' + str(results['precision'].mean()))\n",
    "    print('Overall average recall is: ' + str(results['recall'].mean()))\n",
    "    print('Overall average fscore is: ' + str(results['fscore'].mean()))\n",
    "    \n",
    "    #print('Details: ')\n",
    "    #print(results)\n",
    "    return results"
   ]
  },
  {
   "cell_type": "code",
   "execution_count": 23,
   "metadata": {},
   "outputs": [
    {
     "name": "stdout",
     "output_type": "stream",
     "text": [
      "Overall average precision is: 0.931493498224\n",
      "Overall average recall is: 0.940638456583\n",
      "Overall average fscore is: 0.925891246715\n"
     ]
    },
    {
     "name": "stderr",
     "output_type": "stream",
     "text": [
      "/opt/conda/lib/python3.6/site-packages/sklearn/metrics/classification.py:1135: UndefinedMetricWarning: Precision and F-score are ill-defined and being set to 0.0 in labels with no predicted samples.\n",
      "  'precision', 'predicted', average, warn_for)\n"
     ]
    }
   ],
   "source": [
    "# check print_metrics function with prediction1\n",
    "results1=print_metrics(Y_test, Y_pred1)"
   ]
  },
  {
   "cell_type": "markdown",
   "metadata": {},
   "source": [
    "### 6. Improve your model\n",
    "Use grid search to find better parameters. "
   ]
  },
  {
   "cell_type": "markdown",
   "metadata": {},
   "source": [
    "***Note that I ran the GridSearch only once as it took very, very long. Pipeline2 that will be defined in chapter 7 holds the results of the gridsearch, e.g. the parameters are defined according to the best parameters found out via gridsearch***"
   ]
  },
  {
   "cell_type": "code",
   "execution_count": 16,
   "metadata": {},
   "outputs": [],
   "source": [
    "parameters = {\n",
    "        'classifier__estimator__n_estimators':[11,12,13],\n",
    "        'vect__ngram_range': ((1, 1), (1, 2)),\n",
    "        'vect__max_df': (0.5, 0.75, 1.0),\n",
    "        'tfidf__use_idf': (True, False)\n",
    "}"
   ]
  },
  {
   "cell_type": "code",
   "execution_count": 17,
   "metadata": {},
   "outputs": [],
   "source": [
    "cv = GridSearchCV(pipeline, param_grid=parameters, verbose=50)"
   ]
  },
  {
   "cell_type": "code",
   "execution_count": 18,
   "metadata": {},
   "outputs": [
    {
     "name": "stdout",
     "output_type": "stream",
     "text": [
      "Fitting 3 folds for each of 36 candidates, totalling 108 fits\n",
      "[CV] classifier__estimator__n_estimators=11, tfidf__use_idf=True, vect__max_df=0.5, vect__ngram_range=(1, 1) \n",
      "[CV]  classifier__estimator__n_estimators=11, tfidf__use_idf=True, vect__max_df=0.5, vect__ngram_range=(1, 1), score=0.2050656087885261, total=  49.4s\n",
      "[Parallel(n_jobs=1)]: Done   1 out of   1 | elapsed:   59.5s remaining:    0.0s\n",
      "[CV] classifier__estimator__n_estimators=11, tfidf__use_idf=True, vect__max_df=0.5, vect__ngram_range=(1, 1) \n",
      "[CV]  classifier__estimator__n_estimators=11, tfidf__use_idf=True, vect__max_df=0.5, vect__ngram_range=(1, 1), score=0.2216966737870003, total=  50.9s\n",
      "[Parallel(n_jobs=1)]: Done   2 out of   2 | elapsed:  2.0min remaining:    0.0s\n",
      "[CV] classifier__estimator__n_estimators=11, tfidf__use_idf=True, vect__max_df=0.5, vect__ngram_range=(1, 1) \n",
      "[CV]  classifier__estimator__n_estimators=11, tfidf__use_idf=True, vect__max_df=0.5, vect__ngram_range=(1, 1), score=0.21330485199877938, total=  50.2s\n",
      "[Parallel(n_jobs=1)]: Done   3 out of   3 | elapsed:  3.0min remaining:    0.0s\n",
      "[CV] classifier__estimator__n_estimators=11, tfidf__use_idf=True, vect__max_df=0.5, vect__ngram_range=(1, 2) \n",
      "[CV]  classifier__estimator__n_estimators=11, tfidf__use_idf=True, vect__max_df=0.5, vect__ngram_range=(1, 2), score=0.21956057369545315, total= 1.9min\n",
      "[Parallel(n_jobs=1)]: Done   4 out of   4 | elapsed:  5.1min remaining:    0.0s\n",
      "[CV] classifier__estimator__n_estimators=11, tfidf__use_idf=True, vect__max_df=0.5, vect__ngram_range=(1, 2) \n",
      "[CV]  classifier__estimator__n_estimators=11, tfidf__use_idf=True, vect__max_df=0.5, vect__ngram_range=(1, 2), score=0.21757705218187368, total= 1.9min\n",
      "[Parallel(n_jobs=1)]: Done   5 out of   5 | elapsed:  7.3min remaining:    0.0s\n",
      "[CV] classifier__estimator__n_estimators=11, tfidf__use_idf=True, vect__max_df=0.5, vect__ngram_range=(1, 2) \n",
      "[CV]  classifier__estimator__n_estimators=11, tfidf__use_idf=True, vect__max_df=0.5, vect__ngram_range=(1, 2), score=0.2085749160817821, total= 1.9min\n",
      "[Parallel(n_jobs=1)]: Done   6 out of   6 | elapsed:  9.4min remaining:    0.0s\n",
      "[CV] classifier__estimator__n_estimators=11, tfidf__use_idf=True, vect__max_df=0.75, vect__ngram_range=(1, 1) \n",
      "[CV]  classifier__estimator__n_estimators=11, tfidf__use_idf=True, vect__max_df=0.75, vect__ngram_range=(1, 1), score=0.21238938053097345, total=  49.2s\n",
      "[Parallel(n_jobs=1)]: Done   7 out of   7 | elapsed: 10.4min remaining:    0.0s\n",
      "[CV] classifier__estimator__n_estimators=11, tfidf__use_idf=True, vect__max_df=0.75, vect__ngram_range=(1, 1) \n",
      "[CV]  classifier__estimator__n_estimators=11, tfidf__use_idf=True, vect__max_df=0.75, vect__ngram_range=(1, 1), score=0.2230698809887092, total=  50.4s\n",
      "[Parallel(n_jobs=1)]: Done   8 out of   8 | elapsed: 11.4min remaining:    0.0s\n",
      "[CV] classifier__estimator__n_estimators=11, tfidf__use_idf=True, vect__max_df=0.75, vect__ngram_range=(1, 1) \n",
      "[CV]  classifier__estimator__n_estimators=11, tfidf__use_idf=True, vect__max_df=0.75, vect__ngram_range=(1, 1), score=0.2122368019530058, total=  50.0s\n",
      "[Parallel(n_jobs=1)]: Done   9 out of   9 | elapsed: 12.4min remaining:    0.0s\n",
      "[CV] classifier__estimator__n_estimators=11, tfidf__use_idf=True, vect__max_df=0.75, vect__ngram_range=(1, 2) \n",
      "[CV]  classifier__estimator__n_estimators=11, tfidf__use_idf=True, vect__max_df=0.75, vect__ngram_range=(1, 2), score=0.21788220933780897, total= 1.9min\n",
      "[Parallel(n_jobs=1)]: Done  10 out of  10 | elapsed: 14.5min remaining:    0.0s\n",
      "[CV] classifier__estimator__n_estimators=11, tfidf__use_idf=True, vect__max_df=0.75, vect__ngram_range=(1, 2) \n",
      "[CV]  classifier__estimator__n_estimators=11, tfidf__use_idf=True, vect__max_df=0.75, vect__ngram_range=(1, 2), score=0.2210863594751297, total= 2.0min\n",
      "[Parallel(n_jobs=1)]: Done  11 out of  11 | elapsed: 16.7min remaining:    0.0s\n",
      "[CV] classifier__estimator__n_estimators=11, tfidf__use_idf=True, vect__max_df=0.75, vect__ngram_range=(1, 2) \n",
      "[CV]  classifier__estimator__n_estimators=11, tfidf__use_idf=True, vect__max_df=0.75, vect__ngram_range=(1, 2), score=0.2125419591089411, total= 2.0min\n",
      "[Parallel(n_jobs=1)]: Done  12 out of  12 | elapsed: 18.9min remaining:    0.0s\n",
      "[CV] classifier__estimator__n_estimators=11, tfidf__use_idf=True, vect__max_df=1.0, vect__ngram_range=(1, 1) \n",
      "[CV]  classifier__estimator__n_estimators=11, tfidf__use_idf=True, vect__max_df=1.0, vect__ngram_range=(1, 1), score=0.21086359475129693, total=  49.3s\n",
      "[Parallel(n_jobs=1)]: Done  13 out of  13 | elapsed: 19.9min remaining:    0.0s\n",
      "[CV] classifier__estimator__n_estimators=11, tfidf__use_idf=True, vect__max_df=1.0, vect__ngram_range=(1, 1) \n",
      "[CV]  classifier__estimator__n_estimators=11, tfidf__use_idf=True, vect__max_df=1.0, vect__ngram_range=(1, 1), score=0.21330485199877938, total=  49.6s\n",
      "[Parallel(n_jobs=1)]: Done  14 out of  14 | elapsed: 20.9min remaining:    0.0s\n",
      "[CV] classifier__estimator__n_estimators=11, tfidf__use_idf=True, vect__max_df=1.0, vect__ngram_range=(1, 1) \n",
      "[CV]  classifier__estimator__n_estimators=11, tfidf__use_idf=True, vect__max_df=1.0, vect__ngram_range=(1, 1), score=0.20918523039365272, total=  49.8s\n",
      "[Parallel(n_jobs=1)]: Done  15 out of  15 | elapsed: 21.9min remaining:    0.0s\n",
      "[CV] classifier__estimator__n_estimators=11, tfidf__use_idf=True, vect__max_df=1.0, vect__ngram_range=(1, 2) \n",
      "[CV]  classifier__estimator__n_estimators=11, tfidf__use_idf=True, vect__max_df=1.0, vect__ngram_range=(1, 2), score=0.2171193164479707, total= 2.0min\n",
      "[Parallel(n_jobs=1)]: Done  16 out of  16 | elapsed: 24.1min remaining:    0.0s\n",
      "[CV] classifier__estimator__n_estimators=11, tfidf__use_idf=True, vect__max_df=1.0, vect__ngram_range=(1, 2) \n",
      "[CV]  classifier__estimator__n_estimators=11, tfidf__use_idf=True, vect__max_df=1.0, vect__ngram_range=(1, 2), score=0.21589868782422947, total= 1.9min\n",
      "[Parallel(n_jobs=1)]: Done  17 out of  17 | elapsed: 26.3min remaining:    0.0s\n",
      "[CV] classifier__estimator__n_estimators=11, tfidf__use_idf=True, vect__max_df=1.0, vect__ngram_range=(1, 2) \n",
      "[CV]  classifier__estimator__n_estimators=11, tfidf__use_idf=True, vect__max_df=1.0, vect__ngram_range=(1, 2), score=0.21025328043942632, total= 1.8min\n",
      "[Parallel(n_jobs=1)]: Done  18 out of  18 | elapsed: 28.3min remaining:    0.0s\n",
      "[CV] classifier__estimator__n_estimators=11, tfidf__use_idf=False, vect__max_df=0.5, vect__ngram_range=(1, 1) \n",
      "[CV]  classifier__estimator__n_estimators=11, tfidf__use_idf=False, vect__max_df=0.5, vect__ngram_range=(1, 1), score=0.20598108025633202, total=  50.1s\n",
      "[Parallel(n_jobs=1)]: Done  19 out of  19 | elapsed: 29.3min remaining:    0.0s\n",
      "[CV] classifier__estimator__n_estimators=11, tfidf__use_idf=False, vect__max_df=0.5, vect__ngram_range=(1, 1) \n",
      "[CV]  classifier__estimator__n_estimators=11, tfidf__use_idf=False, vect__max_df=0.5, vect__ngram_range=(1, 1), score=0.2171193164479707, total=  50.4s\n",
      "[Parallel(n_jobs=1)]: Done  20 out of  20 | elapsed: 30.3min remaining:    0.0s\n",
      "[CV] classifier__estimator__n_estimators=11, tfidf__use_idf=False, vect__max_df=0.5, vect__ngram_range=(1, 1) \n",
      "[CV]  classifier__estimator__n_estimators=11, tfidf__use_idf=False, vect__max_df=0.5, vect__ngram_range=(1, 1), score=0.2070491303021056, total=  49.8s\n",
      "[Parallel(n_jobs=1)]: Done  21 out of  21 | elapsed: 31.3min remaining:    0.0s\n",
      "[CV] classifier__estimator__n_estimators=11, tfidf__use_idf=False, vect__max_df=0.5, vect__ngram_range=(1, 2) \n",
      "[CV]  classifier__estimator__n_estimators=11, tfidf__use_idf=False, vect__max_df=0.5, vect__ngram_range=(1, 2), score=0.21589868782422947, total= 1.9min\n",
      "[Parallel(n_jobs=1)]: Done  22 out of  22 | elapsed: 33.5min remaining:    0.0s\n",
      "[CV] classifier__estimator__n_estimators=11, tfidf__use_idf=False, vect__max_df=0.5, vect__ngram_range=(1, 2) \n",
      "[CV]  classifier__estimator__n_estimators=11, tfidf__use_idf=False, vect__max_df=0.5, vect__ngram_range=(1, 2), score=0.2162038449801648, total= 2.0min\n",
      "[Parallel(n_jobs=1)]: Done  23 out of  23 | elapsed: 35.7min remaining:    0.0s\n",
      "[CV] classifier__estimator__n_estimators=11, tfidf__use_idf=False, vect__max_df=0.5, vect__ngram_range=(1, 2) \n",
      "[CV]  classifier__estimator__n_estimators=11, tfidf__use_idf=False, vect__max_df=0.5, vect__ngram_range=(1, 2), score=0.21040585901739395, total= 1.9min\n",
      "[Parallel(n_jobs=1)]: Done  24 out of  24 | elapsed: 37.8min remaining:    0.0s\n",
      "[CV] classifier__estimator__n_estimators=11, tfidf__use_idf=False, vect__max_df=0.75, vect__ngram_range=(1, 1) \n"
     ]
    },
    {
     "name": "stdout",
     "output_type": "stream",
     "text": [
      "[CV]  classifier__estimator__n_estimators=11, tfidf__use_idf=False, vect__max_df=0.75, vect__ngram_range=(1, 1), score=0.20735428745804088, total=  49.7s\n",
      "[Parallel(n_jobs=1)]: Done  25 out of  25 | elapsed: 38.8min remaining:    0.0s\n",
      "[CV] classifier__estimator__n_estimators=11, tfidf__use_idf=False, vect__max_df=0.75, vect__ngram_range=(1, 1) \n",
      "[CV]  classifier__estimator__n_estimators=11, tfidf__use_idf=False, vect__max_df=0.75, vect__ngram_range=(1, 1), score=0.2181873664937443, total=  50.7s\n",
      "[Parallel(n_jobs=1)]: Done  26 out of  26 | elapsed: 39.8min remaining:    0.0s\n",
      "[CV] classifier__estimator__n_estimators=11, tfidf__use_idf=False, vect__max_df=0.75, vect__ngram_range=(1, 1) \n",
      "[CV]  classifier__estimator__n_estimators=11, tfidf__use_idf=False, vect__max_df=0.75, vect__ngram_range=(1, 1), score=0.2148306377784559, total=  49.4s\n",
      "[Parallel(n_jobs=1)]: Done  27 out of  27 | elapsed: 40.8min remaining:    0.0s\n",
      "[CV] classifier__estimator__n_estimators=11, tfidf__use_idf=False, vect__max_df=0.75, vect__ngram_range=(1, 2) \n",
      "[CV]  classifier__estimator__n_estimators=11, tfidf__use_idf=False, vect__max_df=0.75, vect__ngram_range=(1, 2), score=0.21864510222764724, total= 1.8min\n",
      "[Parallel(n_jobs=1)]: Done  28 out of  28 | elapsed: 42.9min remaining:    0.0s\n",
      "[CV] classifier__estimator__n_estimators=11, tfidf__use_idf=False, vect__max_df=0.75, vect__ngram_range=(1, 2) \n",
      "[CV]  classifier__estimator__n_estimators=11, tfidf__use_idf=False, vect__max_df=0.75, vect__ngram_range=(1, 2), score=0.22261214525480622, total= 2.0min\n",
      "[Parallel(n_jobs=1)]: Done  29 out of  29 | elapsed: 45.1min remaining:    0.0s\n",
      "[CV] classifier__estimator__n_estimators=11, tfidf__use_idf=False, vect__max_df=0.75, vect__ngram_range=(1, 2) \n",
      "[CV]  classifier__estimator__n_estimators=11, tfidf__use_idf=False, vect__max_df=0.75, vect__ngram_range=(1, 2), score=0.21238938053097345, total= 1.8min\n",
      "[Parallel(n_jobs=1)]: Done  30 out of  30 | elapsed: 47.1min remaining:    0.0s\n",
      "[CV] classifier__estimator__n_estimators=11, tfidf__use_idf=False, vect__max_df=1.0, vect__ngram_range=(1, 1) \n",
      "[CV]  classifier__estimator__n_estimators=11, tfidf__use_idf=False, vect__max_df=1.0, vect__ngram_range=(1, 1), score=0.20582850167836436, total=  48.8s\n",
      "[Parallel(n_jobs=1)]: Done  31 out of  31 | elapsed: 48.1min remaining:    0.0s\n",
      "[CV] classifier__estimator__n_estimators=11, tfidf__use_idf=False, vect__max_df=1.0, vect__ngram_range=(1, 1) \n",
      "[CV]  classifier__estimator__n_estimators=11, tfidf__use_idf=False, vect__max_df=1.0, vect__ngram_range=(1, 1), score=0.21330485199877938, total=  50.0s\n",
      "[Parallel(n_jobs=1)]: Done  32 out of  32 | elapsed: 49.1min remaining:    0.0s\n",
      "[CV] classifier__estimator__n_estimators=11, tfidf__use_idf=False, vect__max_df=1.0, vect__ngram_range=(1, 1) \n",
      "[CV]  classifier__estimator__n_estimators=11, tfidf__use_idf=False, vect__max_df=1.0, vect__ngram_range=(1, 1), score=0.21147390906316754, total=  49.5s\n",
      "[Parallel(n_jobs=1)]: Done  33 out of  33 | elapsed: 50.0min remaining:    0.0s\n",
      "[CV] classifier__estimator__n_estimators=11, tfidf__use_idf=False, vect__max_df=1.0, vect__ngram_range=(1, 2) \n",
      "[CV]  classifier__estimator__n_estimators=11, tfidf__use_idf=False, vect__max_df=1.0, vect__ngram_range=(1, 2), score=0.21742447360390602, total= 1.8min\n",
      "[Parallel(n_jobs=1)]: Done  34 out of  34 | elapsed: 52.1min remaining:    0.0s\n",
      "[CV] classifier__estimator__n_estimators=11, tfidf__use_idf=False, vect__max_df=1.0, vect__ngram_range=(1, 2) \n",
      "[CV]  classifier__estimator__n_estimators=11, tfidf__use_idf=False, vect__max_df=1.0, vect__ngram_range=(1, 2), score=0.21788220933780897, total= 1.9min\n",
      "[Parallel(n_jobs=1)]: Done  35 out of  35 | elapsed: 54.2min remaining:    0.0s\n",
      "[CV] classifier__estimator__n_estimators=11, tfidf__use_idf=False, vect__max_df=1.0, vect__ngram_range=(1, 2) \n",
      "[CV]  classifier__estimator__n_estimators=11, tfidf__use_idf=False, vect__max_df=1.0, vect__ngram_range=(1, 2), score=0.2181873664937443, total= 1.8min\n",
      "[Parallel(n_jobs=1)]: Done  36 out of  36 | elapsed: 56.3min remaining:    0.0s\n",
      "[CV] classifier__estimator__n_estimators=12, tfidf__use_idf=True, vect__max_df=0.5, vect__ngram_range=(1, 1) \n",
      "[CV]  classifier__estimator__n_estimators=12, tfidf__use_idf=True, vect__max_df=0.5, vect__ngram_range=(1, 1), score=0.22154409520903265, total=  52.9s\n",
      "[Parallel(n_jobs=1)]: Done  37 out of  37 | elapsed: 57.3min remaining:    0.0s\n",
      "[CV] classifier__estimator__n_estimators=12, tfidf__use_idf=True, vect__max_df=0.5, vect__ngram_range=(1, 1) \n",
      "[CV]  classifier__estimator__n_estimators=12, tfidf__use_idf=True, vect__max_df=0.5, vect__ngram_range=(1, 1), score=0.23298748855660664, total=  53.6s\n",
      "[Parallel(n_jobs=1)]: Done  38 out of  38 | elapsed: 58.4min remaining:    0.0s\n",
      "[CV] classifier__estimator__n_estimators=12, tfidf__use_idf=True, vect__max_df=0.5, vect__ngram_range=(1, 1) \n",
      "[CV]  classifier__estimator__n_estimators=12, tfidf__use_idf=True, vect__max_df=0.5, vect__ngram_range=(1, 1), score=0.22093378089716204, total=  53.8s\n",
      "[Parallel(n_jobs=1)]: Done  39 out of  39 | elapsed: 59.5min remaining:    0.0s\n",
      "[CV] classifier__estimator__n_estimators=12, tfidf__use_idf=True, vect__max_df=0.5, vect__ngram_range=(1, 2) \n",
      "[CV]  classifier__estimator__n_estimators=12, tfidf__use_idf=True, vect__max_df=0.5, vect__ngram_range=(1, 2), score=0.23146170277693012, total= 2.1min\n",
      "[Parallel(n_jobs=1)]: Done  40 out of  40 | elapsed: 61.8min remaining:    0.0s\n",
      "[CV] classifier__estimator__n_estimators=12, tfidf__use_idf=True, vect__max_df=0.5, vect__ngram_range=(1, 2) \n",
      "[CV]  classifier__estimator__n_estimators=12, tfidf__use_idf=True, vect__max_df=0.5, vect__ngram_range=(1, 2), score=0.22810497406164174, total= 2.1min\n",
      "[Parallel(n_jobs=1)]: Done  41 out of  41 | elapsed: 64.1min remaining:    0.0s\n",
      "[CV] classifier__estimator__n_estimators=12, tfidf__use_idf=True, vect__max_df=0.5, vect__ngram_range=(1, 2) \n",
      "[CV]  classifier__estimator__n_estimators=12, tfidf__use_idf=True, vect__max_df=0.5, vect__ngram_range=(1, 2), score=0.22001830942935613, total= 2.1min\n",
      "[Parallel(n_jobs=1)]: Done  42 out of  42 | elapsed: 66.4min remaining:    0.0s\n",
      "[CV] classifier__estimator__n_estimators=12, tfidf__use_idf=True, vect__max_df=0.75, vect__ngram_range=(1, 1) \n",
      "[CV]  classifier__estimator__n_estimators=12, tfidf__use_idf=True, vect__max_df=0.75, vect__ngram_range=(1, 1), score=0.22642660970399756, total=  52.7s\n",
      "[Parallel(n_jobs=1)]: Done  43 out of  43 | elapsed: 67.5min remaining:    0.0s\n",
      "[CV] classifier__estimator__n_estimators=12, tfidf__use_idf=True, vect__max_df=0.75, vect__ngram_range=(1, 1) \n",
      "[CV]  classifier__estimator__n_estimators=12, tfidf__use_idf=True, vect__max_df=0.75, vect__ngram_range=(1, 1), score=0.2331400671345743, total=  54.2s\n",
      "[Parallel(n_jobs=1)]: Done  44 out of  44 | elapsed: 68.5min remaining:    0.0s\n",
      "[CV] classifier__estimator__n_estimators=12, tfidf__use_idf=True, vect__max_df=0.75, vect__ngram_range=(1, 1) \n",
      "[CV]  classifier__estimator__n_estimators=12, tfidf__use_idf=True, vect__max_df=0.75, vect__ngram_range=(1, 1), score=0.221391516631065, total=  53.3s\n",
      "[Parallel(n_jobs=1)]: Done  45 out of  45 | elapsed: 69.6min remaining:    0.0s\n",
      "[CV] classifier__estimator__n_estimators=12, tfidf__use_idf=True, vect__max_df=0.75, vect__ngram_range=(1, 2) \n",
      "[CV]  classifier__estimator__n_estimators=12, tfidf__use_idf=True, vect__max_df=0.75, vect__ngram_range=(1, 2), score=0.2308513884650595, total= 1.9min\n",
      "[Parallel(n_jobs=1)]: Done  46 out of  46 | elapsed: 71.7min remaining:    0.0s\n",
      "[CV] classifier__estimator__n_estimators=12, tfidf__use_idf=True, vect__max_df=0.75, vect__ngram_range=(1, 2) \n",
      "[CV]  classifier__estimator__n_estimators=12, tfidf__use_idf=True, vect__max_df=0.75, vect__ngram_range=(1, 2), score=0.2308513884650595, total= 2.0min\n",
      "[Parallel(n_jobs=1)]: Done  47 out of  47 | elapsed: 73.9min remaining:    0.0s\n",
      "[CV] classifier__estimator__n_estimators=12, tfidf__use_idf=True, vect__max_df=0.75, vect__ngram_range=(1, 2) \n",
      "[CV]  classifier__estimator__n_estimators=12, tfidf__use_idf=True, vect__max_df=0.75, vect__ngram_range=(1, 2), score=0.22841013121757706, total= 2.0min\n",
      "[Parallel(n_jobs=1)]: Done  48 out of  48 | elapsed: 76.2min remaining:    0.0s\n",
      "[CV] classifier__estimator__n_estimators=12, tfidf__use_idf=True, vect__max_df=1.0, vect__ngram_range=(1, 1) \n"
     ]
    },
    {
     "name": "stdout",
     "output_type": "stream",
     "text": [
      "[CV]  classifier__estimator__n_estimators=12, tfidf__use_idf=True, vect__max_df=1.0, vect__ngram_range=(1, 1), score=0.22505340250228867, total=  51.9s\n",
      "[Parallel(n_jobs=1)]: Done  49 out of  49 | elapsed: 77.2min remaining:    0.0s\n",
      "[CV] classifier__estimator__n_estimators=12, tfidf__use_idf=True, vect__max_df=1.0, vect__ngram_range=(1, 1) \n",
      "[CV]  classifier__estimator__n_estimators=12, tfidf__use_idf=True, vect__max_df=1.0, vect__ngram_range=(1, 1), score=0.22047604516325908, total=  53.2s\n",
      "[CV] classifier__estimator__n_estimators=12, tfidf__use_idf=True, vect__max_df=1.0, vect__ngram_range=(1, 2) \n",
      "[CV]  classifier__estimator__n_estimators=12, tfidf__use_idf=True, vect__max_df=1.0, vect__ngram_range=(1, 2), score=0.22871528837351235, total= 1.9min\n",
      "[CV] classifier__estimator__n_estimators=12, tfidf__use_idf=True, vect__max_df=1.0, vect__ngram_range=(1, 2) \n",
      "[CV]  classifier__estimator__n_estimators=12, tfidf__use_idf=True, vect__max_df=1.0, vect__ngram_range=(1, 2), score=0.22810497406164174, total= 2.0min\n",
      "[CV] classifier__estimator__n_estimators=12, tfidf__use_idf=True, vect__max_df=1.0, vect__ngram_range=(1, 2) \n",
      "[CV]  classifier__estimator__n_estimators=12, tfidf__use_idf=True, vect__max_df=1.0, vect__ngram_range=(1, 2), score=0.22444308819041806, total= 1.8min\n",
      "[CV] classifier__estimator__n_estimators=12, tfidf__use_idf=False, vect__max_df=0.5, vect__ngram_range=(1, 1) \n",
      "[CV]  classifier__estimator__n_estimators=12, tfidf__use_idf=False, vect__max_df=0.5, vect__ngram_range=(1, 1), score=0.21986573085138847, total=  53.1s\n",
      "[CV] classifier__estimator__n_estimators=12, tfidf__use_idf=False, vect__max_df=0.5, vect__ngram_range=(1, 1) \n",
      "[CV]  classifier__estimator__n_estimators=12, tfidf__use_idf=False, vect__max_df=0.5, vect__ngram_range=(1, 1), score=0.22963075984131828, total=  53.5s\n",
      "[CV] classifier__estimator__n_estimators=12, tfidf__use_idf=False, vect__max_df=0.5, vect__ngram_range=(1, 1) \n",
      "[CV]  classifier__estimator__n_estimators=12, tfidf__use_idf=False, vect__max_df=0.5, vect__ngram_range=(1, 1), score=0.2187976808056149, total=  52.8s\n",
      "[CV] classifier__estimator__n_estimators=12, tfidf__use_idf=False, vect__max_df=0.5, vect__ngram_range=(1, 2) \n",
      "[CV]  classifier__estimator__n_estimators=12, tfidf__use_idf=False, vect__max_df=0.5, vect__ngram_range=(1, 2), score=0.22902044552944767, total= 1.9min\n",
      "[CV] classifier__estimator__n_estimators=12, tfidf__use_idf=False, vect__max_df=0.5, vect__ngram_range=(1, 2) \n",
      "[CV]  classifier__estimator__n_estimators=12, tfidf__use_idf=False, vect__max_df=0.5, vect__ngram_range=(1, 2), score=0.22520598108025633, total= 2.0min\n",
      "[CV] classifier__estimator__n_estimators=12, tfidf__use_idf=False, vect__max_df=0.5, vect__ngram_range=(1, 2) \n",
      "[CV]  classifier__estimator__n_estimators=12, tfidf__use_idf=False, vect__max_df=0.5, vect__ngram_range=(1, 2), score=0.22413793103448276, total= 2.0min\n",
      "[CV] classifier__estimator__n_estimators=12, tfidf__use_idf=False, vect__max_df=0.75, vect__ngram_range=(1, 1) \n",
      "[CV]  classifier__estimator__n_estimators=12, tfidf__use_idf=False, vect__max_df=0.75, vect__ngram_range=(1, 1), score=0.22322245956667683, total=  52.4s\n",
      "[CV] classifier__estimator__n_estimators=12, tfidf__use_idf=False, vect__max_df=0.75, vect__ngram_range=(1, 1) \n",
      "[CV]  classifier__estimator__n_estimators=12, tfidf__use_idf=False, vect__max_df=0.75, vect__ngram_range=(1, 1), score=0.22978333841928594, total=  53.0s\n",
      "[CV] classifier__estimator__n_estimators=12, tfidf__use_idf=False, vect__max_df=0.75, vect__ngram_range=(1, 1) \n",
      "[CV]  classifier__estimator__n_estimators=12, tfidf__use_idf=False, vect__max_df=0.75, vect__ngram_range=(1, 1), score=0.22886786695148, total=  52.6s\n",
      "[CV] classifier__estimator__n_estimators=12, tfidf__use_idf=False, vect__max_df=0.75, vect__ngram_range=(1, 2) \n",
      "[CV]  classifier__estimator__n_estimators=12, tfidf__use_idf=False, vect__max_df=0.75, vect__ngram_range=(1, 2), score=0.2308513884650595, total= 2.0min\n",
      "[CV] classifier__estimator__n_estimators=12, tfidf__use_idf=False, vect__max_df=0.75, vect__ngram_range=(1, 2) \n",
      "[CV]  classifier__estimator__n_estimators=12, tfidf__use_idf=False, vect__max_df=0.75, vect__ngram_range=(1, 2), score=0.23069880988709185, total= 1.9min\n",
      "[CV] classifier__estimator__n_estimators=12, tfidf__use_idf=False, vect__max_df=0.75, vect__ngram_range=(1, 2) \n",
      "[CV]  classifier__estimator__n_estimators=12, tfidf__use_idf=False, vect__max_df=0.75, vect__ngram_range=(1, 2), score=0.2268843454379005, total= 2.1min\n",
      "[CV] classifier__estimator__n_estimators=12, tfidf__use_idf=False, vect__max_df=1.0, vect__ngram_range=(1, 1) \n",
      "[CV]  classifier__estimator__n_estimators=12, tfidf__use_idf=False, vect__max_df=1.0, vect__ngram_range=(1, 1), score=0.21986573085138847, total=  53.4s\n",
      "[CV] classifier__estimator__n_estimators=12, tfidf__use_idf=False, vect__max_df=1.0, vect__ngram_range=(1, 1) \n",
      "[CV]  classifier__estimator__n_estimators=12, tfidf__use_idf=False, vect__max_df=1.0, vect__ngram_range=(1, 1), score=0.2282575526396094, total=  53.7s\n",
      "[CV] classifier__estimator__n_estimators=12, tfidf__use_idf=False, vect__max_df=1.0, vect__ngram_range=(1, 1) \n",
      "[CV]  classifier__estimator__n_estimators=12, tfidf__use_idf=False, vect__max_df=1.0, vect__ngram_range=(1, 1), score=0.2268843454379005, total=  53.4s\n",
      "[CV] classifier__estimator__n_estimators=12, tfidf__use_idf=False, vect__max_df=1.0, vect__ngram_range=(1, 2) \n",
      "[CV]  classifier__estimator__n_estimators=12, tfidf__use_idf=False, vect__max_df=1.0, vect__ngram_range=(1, 2), score=0.2233750381446445, total= 1.9min\n",
      "[CV] classifier__estimator__n_estimators=12, tfidf__use_idf=False, vect__max_df=1.0, vect__ngram_range=(1, 2) \n",
      "[CV]  classifier__estimator__n_estimators=12, tfidf__use_idf=False, vect__max_df=1.0, vect__ngram_range=(1, 2), score=0.22902044552944767, total= 2.2min\n",
      "[CV] classifier__estimator__n_estimators=12, tfidf__use_idf=False, vect__max_df=1.0, vect__ngram_range=(1, 2) \n",
      "[CV]  classifier__estimator__n_estimators=12, tfidf__use_idf=False, vect__max_df=1.0, vect__ngram_range=(1, 2), score=0.22978333841928594, total= 1.9min\n",
      "[CV] classifier__estimator__n_estimators=13, tfidf__use_idf=True, vect__max_df=0.5, vect__ngram_range=(1, 1) \n",
      "[CV]  classifier__estimator__n_estimators=13, tfidf__use_idf=True, vect__max_df=0.5, vect__ngram_range=(1, 1), score=0.21361000915471468, total=  56.8s\n",
      "[CV] classifier__estimator__n_estimators=13, tfidf__use_idf=True, vect__max_df=0.5, vect__ngram_range=(1, 1) \n",
      "[CV]  classifier__estimator__n_estimators=13, tfidf__use_idf=True, vect__max_df=0.5, vect__ngram_range=(1, 1), score=0.22245956667683858, total=  57.5s\n",
      "[CV] classifier__estimator__n_estimators=13, tfidf__use_idf=True, vect__max_df=0.5, vect__ngram_range=(1, 1) \n",
      "[CV]  classifier__estimator__n_estimators=13, tfidf__use_idf=True, vect__max_df=0.5, vect__ngram_range=(1, 1), score=0.21635642355813245, total=  56.9s\n",
      "[CV] classifier__estimator__n_estimators=13, tfidf__use_idf=True, vect__max_df=0.5, vect__ngram_range=(1, 2) \n",
      "[CV]  classifier__estimator__n_estimators=13, tfidf__use_idf=True, vect__max_df=0.5, vect__ngram_range=(1, 2), score=0.2233750381446445, total= 2.1min\n",
      "[CV] classifier__estimator__n_estimators=13, tfidf__use_idf=True, vect__max_df=0.5, vect__ngram_range=(1, 2) \n",
      "[CV]  classifier__estimator__n_estimators=13, tfidf__use_idf=True, vect__max_df=0.5, vect__ngram_range=(1, 2), score=0.221391516631065, total= 2.2min\n",
      "[CV] classifier__estimator__n_estimators=13, tfidf__use_idf=True, vect__max_df=0.5, vect__ngram_range=(1, 2) \n",
      "[CV]  classifier__estimator__n_estimators=13, tfidf__use_idf=True, vect__max_df=0.5, vect__ngram_range=(1, 2), score=0.21696673787000306, total= 2.1min\n",
      "[CV] classifier__estimator__n_estimators=13, tfidf__use_idf=True, vect__max_df=0.75, vect__ngram_range=(1, 1) \n",
      "[CV]  classifier__estimator__n_estimators=13, tfidf__use_idf=True, vect__max_df=0.75, vect__ngram_range=(1, 1), score=0.21177906621910284, total=  57.1s\n",
      "[CV] classifier__estimator__n_estimators=13, tfidf__use_idf=True, vect__max_df=0.75, vect__ngram_range=(1, 1) \n",
      "[CV]  classifier__estimator__n_estimators=13, tfidf__use_idf=True, vect__max_df=0.75, vect__ngram_range=(1, 1), score=0.22261214525480622, total=  57.5s\n",
      "[CV] classifier__estimator__n_estimators=13, tfidf__use_idf=True, vect__max_df=0.75, vect__ngram_range=(1, 1) \n"
     ]
    },
    {
     "name": "stdout",
     "output_type": "stream",
     "text": [
      "[CV]  classifier__estimator__n_estimators=13, tfidf__use_idf=True, vect__max_df=0.75, vect__ngram_range=(1, 1), score=0.21574610924626184, total=  56.9s\n",
      "[CV] classifier__estimator__n_estimators=13, tfidf__use_idf=True, vect__max_df=0.75, vect__ngram_range=(1, 2) \n",
      "[CV]  classifier__estimator__n_estimators=13, tfidf__use_idf=True, vect__max_df=0.75, vect__ngram_range=(1, 2), score=0.21849252364967958, total= 2.2min\n",
      "[CV] classifier__estimator__n_estimators=13, tfidf__use_idf=True, vect__max_df=0.75, vect__ngram_range=(1, 2) \n",
      "[CV]  classifier__estimator__n_estimators=13, tfidf__use_idf=True, vect__max_df=0.75, vect__ngram_range=(1, 2), score=0.22779981690570644, total= 2.2min\n",
      "[CV] classifier__estimator__n_estimators=13, tfidf__use_idf=True, vect__max_df=0.75, vect__ngram_range=(1, 2) \n",
      "[CV]  classifier__estimator__n_estimators=13, tfidf__use_idf=True, vect__max_df=0.75, vect__ngram_range=(1, 2), score=0.2177296307598413, total= 2.1min\n",
      "[CV] classifier__estimator__n_estimators=13, tfidf__use_idf=True, vect__max_df=1.0, vect__ngram_range=(1, 1) \n",
      "[CV]  classifier__estimator__n_estimators=13, tfidf__use_idf=True, vect__max_df=1.0, vect__ngram_range=(1, 1), score=0.2168141592920354, total=  56.6s\n",
      "[CV] classifier__estimator__n_estimators=13, tfidf__use_idf=True, vect__max_df=1.0, vect__ngram_range=(1, 1) \n",
      "[CV]  classifier__estimator__n_estimators=13, tfidf__use_idf=True, vect__max_df=1.0, vect__ngram_range=(1, 1), score=0.21757705218187368, total=  57.1s\n",
      "[CV] classifier__estimator__n_estimators=13, tfidf__use_idf=True, vect__max_df=1.0, vect__ngram_range=(1, 1) \n",
      "[CV]  classifier__estimator__n_estimators=13, tfidf__use_idf=True, vect__max_df=1.0, vect__ngram_range=(1, 1), score=0.20918523039365272, total=  56.5s\n",
      "[CV] classifier__estimator__n_estimators=13, tfidf__use_idf=True, vect__max_df=1.0, vect__ngram_range=(1, 2) \n",
      "[CV]  classifier__estimator__n_estimators=13, tfidf__use_idf=True, vect__max_df=1.0, vect__ngram_range=(1, 2), score=0.22184925236496797, total= 2.1min\n",
      "[CV] classifier__estimator__n_estimators=13, tfidf__use_idf=True, vect__max_df=1.0, vect__ngram_range=(1, 2) \n",
      "[CV]  classifier__estimator__n_estimators=13, tfidf__use_idf=True, vect__max_df=1.0, vect__ngram_range=(1, 2), score=0.2187976808056149, total= 2.3min\n",
      "[CV] classifier__estimator__n_estimators=13, tfidf__use_idf=True, vect__max_df=1.0, vect__ngram_range=(1, 2) \n",
      "[CV]  classifier__estimator__n_estimators=13, tfidf__use_idf=True, vect__max_df=1.0, vect__ngram_range=(1, 2), score=0.21605126640219713, total= 2.2min\n",
      "[CV] classifier__estimator__n_estimators=13, tfidf__use_idf=False, vect__max_df=0.5, vect__ngram_range=(1, 1) \n",
      "[CV]  classifier__estimator__n_estimators=13, tfidf__use_idf=False, vect__max_df=0.5, vect__ngram_range=(1, 1), score=0.21391516631065, total=  56.2s\n",
      "[CV] classifier__estimator__n_estimators=13, tfidf__use_idf=False, vect__max_df=0.5, vect__ngram_range=(1, 1) \n",
      "[CV]  classifier__estimator__n_estimators=13, tfidf__use_idf=False, vect__max_df=0.5, vect__ngram_range=(1, 1), score=0.2197131522734208, total=  56.9s\n",
      "[CV] classifier__estimator__n_estimators=13, tfidf__use_idf=False, vect__max_df=0.5, vect__ngram_range=(1, 1) \n",
      "[CV]  classifier__estimator__n_estimators=13, tfidf__use_idf=False, vect__max_df=0.5, vect__ngram_range=(1, 1), score=0.21315227342081172, total=  56.2s\n",
      "[CV] classifier__estimator__n_estimators=13, tfidf__use_idf=False, vect__max_df=0.5, vect__ngram_range=(1, 2) \n",
      "[CV]  classifier__estimator__n_estimators=13, tfidf__use_idf=False, vect__max_df=0.5, vect__ngram_range=(1, 2), score=0.22215440952090326, total= 2.2min\n",
      "[CV] classifier__estimator__n_estimators=13, tfidf__use_idf=False, vect__max_df=0.5, vect__ngram_range=(1, 2) \n",
      "[CV]  classifier__estimator__n_estimators=13, tfidf__use_idf=False, vect__max_df=0.5, vect__ngram_range=(1, 2), score=0.221391516631065, total= 2.2min\n",
      "[CV] classifier__estimator__n_estimators=13, tfidf__use_idf=False, vect__max_df=0.5, vect__ngram_range=(1, 2) \n",
      "[CV]  classifier__estimator__n_estimators=13, tfidf__use_idf=False, vect__max_df=0.5, vect__ngram_range=(1, 2), score=0.21742447360390602, total= 2.2min\n",
      "[CV] classifier__estimator__n_estimators=13, tfidf__use_idf=False, vect__max_df=0.75, vect__ngram_range=(1, 1) \n",
      "[CV]  classifier__estimator__n_estimators=13, tfidf__use_idf=False, vect__max_df=0.75, vect__ngram_range=(1, 1), score=0.21361000915471468, total=  57.3s\n",
      "[CV] classifier__estimator__n_estimators=13, tfidf__use_idf=False, vect__max_df=0.75, vect__ngram_range=(1, 1) \n",
      "[CV]  classifier__estimator__n_estimators=13, tfidf__use_idf=False, vect__max_df=0.75, vect__ngram_range=(1, 1), score=0.221391516631065, total=  57.6s\n",
      "[CV] classifier__estimator__n_estimators=13, tfidf__use_idf=False, vect__max_df=0.75, vect__ngram_range=(1, 1) \n",
      "[CV]  classifier__estimator__n_estimators=13, tfidf__use_idf=False, vect__max_df=0.75, vect__ngram_range=(1, 1), score=0.21849252364967958, total=  56.0s\n",
      "[CV] classifier__estimator__n_estimators=13, tfidf__use_idf=False, vect__max_df=0.75, vect__ngram_range=(1, 2) \n",
      "[CV]  classifier__estimator__n_estimators=13, tfidf__use_idf=False, vect__max_df=0.75, vect__ngram_range=(1, 2), score=0.22261214525480622, total= 2.1min\n",
      "[CV] classifier__estimator__n_estimators=13, tfidf__use_idf=False, vect__max_df=0.75, vect__ngram_range=(1, 2) \n",
      "[CV]  classifier__estimator__n_estimators=13, tfidf__use_idf=False, vect__max_df=0.75, vect__ngram_range=(1, 2), score=0.22551113823619165, total= 2.2min\n",
      "[CV] classifier__estimator__n_estimators=13, tfidf__use_idf=False, vect__max_df=0.75, vect__ngram_range=(1, 2) \n",
      "[CV]  classifier__estimator__n_estimators=13, tfidf__use_idf=False, vect__max_df=0.75, vect__ngram_range=(1, 2), score=0.2148306377784559, total= 2.2min\n",
      "[CV] classifier__estimator__n_estimators=13, tfidf__use_idf=False, vect__max_df=1.0, vect__ngram_range=(1, 1) \n",
      "[CV]  classifier__estimator__n_estimators=13, tfidf__use_idf=False, vect__max_df=1.0, vect__ngram_range=(1, 1), score=0.2105584375953616, total=  56.1s\n",
      "[CV] classifier__estimator__n_estimators=13, tfidf__use_idf=False, vect__max_df=1.0, vect__ngram_range=(1, 1) \n",
      "[CV]  classifier__estimator__n_estimators=13, tfidf__use_idf=False, vect__max_df=1.0, vect__ngram_range=(1, 1), score=0.2220018309429356, total=  56.9s\n",
      "[CV] classifier__estimator__n_estimators=13, tfidf__use_idf=False, vect__max_df=1.0, vect__ngram_range=(1, 1) \n",
      "[CV]  classifier__estimator__n_estimators=13, tfidf__use_idf=False, vect__max_df=1.0, vect__ngram_range=(1, 1), score=0.21895025938358254, total=  56.7s\n",
      "[CV] classifier__estimator__n_estimators=13, tfidf__use_idf=False, vect__max_df=1.0, vect__ngram_range=(1, 2) \n",
      "[CV]  classifier__estimator__n_estimators=13, tfidf__use_idf=False, vect__max_df=1.0, vect__ngram_range=(1, 2), score=0.2148306377784559, total= 2.2min\n",
      "[CV] classifier__estimator__n_estimators=13, tfidf__use_idf=False, vect__max_df=1.0, vect__ngram_range=(1, 2) \n",
      "[CV]  classifier__estimator__n_estimators=13, tfidf__use_idf=False, vect__max_df=1.0, vect__ngram_range=(1, 2), score=0.21833994507171192, total= 2.4min\n",
      "[CV] classifier__estimator__n_estimators=13, tfidf__use_idf=False, vect__max_df=1.0, vect__ngram_range=(1, 2) \n",
      "[CV]  classifier__estimator__n_estimators=13, tfidf__use_idf=False, vect__max_df=1.0, vect__ngram_range=(1, 2), score=0.22154409520903265, total= 2.2min\n",
      "[Parallel(n_jobs=1)]: Done 108 out of 108 | elapsed: 179.6min finished\n"
     ]
    },
    {
     "data": {
      "text/plain": [
       "GridSearchCV(cv=None, error_score='raise',\n",
       "       estimator=Pipeline(memory=None,\n",
       "     steps=[('vect', CountVectorizer(analyzer='word', binary=False, decode_error='strict',\n",
       "        dtype=<class 'numpy.int64'>, encoding='utf-8', input='content',\n",
       "        lowercase=True, max_df=1.0, max_features=None, min_df=1,\n",
       "        ngram_range=(1, 1), preprocessor=None, stop_words=None,\n",
       "        strip...,\n",
       "            oob_score=False, random_state=42, verbose=0, warm_start=False),\n",
       "           n_jobs=1))]),\n",
       "       fit_params=None, iid=True, n_jobs=1,\n",
       "       param_grid={'classifier__estimator__n_estimators': [11, 12, 13], 'vect__ngram_range': ((1, 1), (1, 2)), 'vect__max_df': (0.5, 0.75, 1.0), 'tfidf__use_idf': (True, False)},\n",
       "       pre_dispatch='2*n_jobs', refit=True, return_train_score='warn',\n",
       "       scoring=None, verbose=50)"
      ]
     },
     "execution_count": 18,
     "metadata": {},
     "output_type": "execute_result"
    }
   ],
   "source": [
    "cv.fit(X_train, Y_train)"
   ]
  },
  {
   "cell_type": "code",
   "execution_count": 19,
   "metadata": {},
   "outputs": [
    {
     "data": {
      "text/plain": [
       "{'classifier__estimator__n_estimators': 12,\n",
       " 'tfidf__use_idf': True,\n",
       " 'vect__max_df': 0.75,\n",
       " 'vect__ngram_range': (1, 2)}"
      ]
     },
     "execution_count": 19,
     "metadata": {},
     "output_type": "execute_result"
    }
   ],
   "source": [
    "cv.best_params_"
   ]
  },
  {
   "cell_type": "markdown",
   "metadata": {},
   "source": [
    "Fitting 3 folds for each of 36 candidates, totalling 108 fits\n",
    "[CV] classifier__estimator__n_estimators=11, tfidf__use_idf=True, vect__max_df=0.5, vect__ngram_range=(1, 1) \n",
    "[CV]  classifier__estimator__n_estimators=11, tfidf__use_idf=True, vect__max_df=0.5, vect__ngram_range=(1, 1), score=0.2050656087885261, total=  49.4s\n",
    "[Parallel(n_jobs=1)]: Done   1 out of   1 | elapsed:   59.5s remaining:    0.0s\n",
    "[CV] classifier__estimator__n_estimators=11, tfidf__use_idf=True, vect__max_df=0.5, vect__ngram_range=(1, 1) \n",
    "[CV]  classifier__estimator__n_estimators=11, tfidf__use_idf=True, vect__max_df=0.5, vect__ngram_range=(1, 1), score=0.2216966737870003, total=  50.9s\n",
    "[Parallel(n_jobs=1)]: Done   2 out of   2 | elapsed:  2.0min remaining:    0.0s\n",
    "[CV] classifier__estimator__n_estimators=11, tfidf__use_idf=True, vect__max_df=0.5, vect__ngram_range=(1, 1) \n",
    "[CV]  classifier__estimator__n_estimators=11, tfidf__use_idf=True, vect__max_df=0.5, vect__ngram_range=(1, 1), score=0.21330485199877938, total=  50.2s\n",
    "[Parallel(n_jobs=1)]: Done   3 out of   3 | elapsed:  3.0min remaining:    0.0s\n",
    "[CV] classifier__estimator__n_estimators=11, tfidf__use_idf=True, vect__max_df=0.5, vect__ngram_range=(1, 2) \n",
    "[CV]  classifier__estimator__n_estimators=11, tfidf__use_idf=True, vect__max_df=0.5, vect__ngram_range=(1, 2), score=0.21956057369545315, total= 1.9min\n",
    "[Parallel(n_jobs=1)]: Done   4 out of   4 | elapsed:  5.1min remaining:    0.0s\n",
    "[CV] classifier__estimator__n_estimators=11, tfidf__use_idf=True, vect__max_df=0.5, vect__ngram_range=(1, 2) \n",
    "[CV]  classifier__estimator__n_estimators=11, tfidf__use_idf=True, vect__max_df=0.5, vect__ngram_range=(1, 2), score=0.21757705218187368, total= 1.9min\n",
    "[Parallel(n_jobs=1)]: Done   5 out of   5 | elapsed:  7.3min remaining:    0.0s\n",
    "[CV] classifier__estimator__n_estimators=11, tfidf__use_idf=True, vect__max_df=0.5, vect__ngram_range=(1, 2) \n",
    "[CV]  classifier__estimator__n_estimators=11, tfidf__use_idf=True, vect__max_df=0.5, vect__ngram_range=(1, 2), score=0.2085749160817821, total= 1.9min\n",
    "[Parallel(n_jobs=1)]: Done   6 out of   6 | elapsed:  9.4min remaining:    0.0s\n",
    "[CV] classifier__estimator__n_estimators=11, tfidf__use_idf=True, vect__max_df=0.75, vect__ngram_range=(1, 1) \n",
    "[CV]  classifier__estimator__n_estimators=11, tfidf__use_idf=True, vect__max_df=0.75, vect__ngram_range=(1, 1), score=0.21238938053097345, total=  49.2s\n",
    "[Parallel(n_jobs=1)]: Done   7 out of   7 | elapsed: 10.4min remaining:    0.0s\n",
    "[CV] classifier__estimator__n_estimators=11, tfidf__use_idf=True, vect__max_df=0.75, vect__ngram_range=(1, 1) \n",
    "[CV]  classifier__estimator__n_estimators=11, tfidf__use_idf=True, vect__max_df=0.75, vect__ngram_range=(1, 1), score=0.2230698809887092, total=  50.4s\n",
    "[Parallel(n_jobs=1)]: Done   8 out of   8 | elapsed: 11.4min remaining:    0.0s\n",
    "[CV] classifier__estimator__n_estimators=11, tfidf__use_idf=True, vect__max_df=0.75, vect__ngram_range=(1, 1) \n",
    "[CV]  classifier__estimator__n_estimators=11, tfidf__use_idf=True, vect__max_df=0.75, vect__ngram_range=(1, 1), score=0.2122368019530058, total=  50.0s\n",
    "[Parallel(n_jobs=1)]: Done   9 out of   9 | elapsed: 12.4min remaining:    0.0s\n",
    "[CV] classifier__estimator__n_estimators=11, tfidf__use_idf=True, vect__max_df=0.75, vect__ngram_range=(1, 2) \n",
    "[CV]  classifier__estimator__n_estimators=11, tfidf__use_idf=True, vect__max_df=0.75, vect__ngram_range=(1, 2), score=0.21788220933780897, total= 1.9min\n",
    "[Parallel(n_jobs=1)]: Done  10 out of  10 | elapsed: 14.5min remaining:    0.0s\n",
    "[CV] classifier__estimator__n_estimators=11, tfidf__use_idf=True, vect__max_df=0.75, vect__ngram_range=(1, 2) \n",
    "[CV]  classifier__estimator__n_estimators=11, tfidf__use_idf=True, vect__max_df=0.75, vect__ngram_range=(1, 2), score=0.2210863594751297, total= 2.0min\n",
    "[Parallel(n_jobs=1)]: Done  11 out of  11 | elapsed: 16.7min remaining:    0.0s\n",
    "[CV] classifier__estimator__n_estimators=11, tfidf__use_idf=True, vect__max_df=0.75, vect__ngram_range=(1, 2) \n",
    "[CV]  classifier__estimator__n_estimators=11, tfidf__use_idf=True, vect__max_df=0.75, vect__ngram_range=(1, 2), score=0.2125419591089411, total= 2.0min\n",
    "[Parallel(n_jobs=1)]: Done  12 out of  12 | elapsed: 18.9min remaining:    0.0s\n",
    "[CV] classifier__estimator__n_estimators=11, tfidf__use_idf=True, vect__max_df=1.0, vect__ngram_range=(1, 1) \n",
    "[CV]  classifier__estimator__n_estimators=11, tfidf__use_idf=True, vect__max_df=1.0, vect__ngram_range=(1, 1), score=0.21086359475129693, total=  49.3s\n",
    "[Parallel(n_jobs=1)]: Done  13 out of  13 | elapsed: 19.9min remaining:    0.0s\n",
    "[CV] classifier__estimator__n_estimators=11, tfidf__use_idf=True, vect__max_df=1.0, vect__ngram_range=(1, 1) \n",
    "[CV]  classifier__estimator__n_estimators=11, tfidf__use_idf=True, vect__max_df=1.0, vect__ngram_range=(1, 1), score=0.21330485199877938, total=  49.6s\n",
    "[Parallel(n_jobs=1)]: Done  14 out of  14 | elapsed: 20.9min remaining:    0.0s\n",
    "[CV] classifier__estimator__n_estimators=11, tfidf__use_idf=True, vect__max_df=1.0, vect__ngram_range=(1, 1) \n",
    "[CV]  classifier__estimator__n_estimators=11, tfidf__use_idf=True, vect__max_df=1.0, vect__ngram_range=(1, 1), score=0.20918523039365272, total=  49.8s\n",
    "[Parallel(n_jobs=1)]: Done  15 out of  15 | elapsed: 21.9min remaining:    0.0s\n",
    "[CV] classifier__estimator__n_estimators=11, tfidf__use_idf=True, vect__max_df=1.0, vect__ngram_range=(1, 2) \n",
    "[CV]  classifier__estimator__n_estimators=11, tfidf__use_idf=True, vect__max_df=1.0, vect__ngram_range=(1, 2), score=0.2171193164479707, total= 2.0min\n",
    "[Parallel(n_jobs=1)]: Done  16 out of  16 | elapsed: 24.1min remaining:    0.0s\n",
    "[CV] classifier__estimator__n_estimators=11, tfidf__use_idf=True, vect__max_df=1.0, vect__ngram_range=(1, 2) \n",
    "[CV]  classifier__estimator__n_estimators=11, tfidf__use_idf=True, vect__max_df=1.0, vect__ngram_range=(1, 2), score=0.21589868782422947, total= 1.9min\n",
    "[Parallel(n_jobs=1)]: Done  17 out of  17 | elapsed: 26.3min remaining:    0.0s\n",
    "[CV] classifier__estimator__n_estimators=11, tfidf__use_idf=True, vect__max_df=1.0, vect__ngram_range=(1, 2) \n",
    "[CV]  classifier__estimator__n_estimators=11, tfidf__use_idf=True, vect__max_df=1.0, vect__ngram_range=(1, 2), score=0.21025328043942632, total= 1.8min\n",
    "[Parallel(n_jobs=1)]: Done  18 out of  18 | elapsed: 28.3min remaining:    0.0s\n",
    "[CV] classifier__estimator__n_estimators=11, tfidf__use_idf=False, vect__max_df=0.5, vect__ngram_range=(1, 1) \n",
    "[CV]  classifier__estimator__n_estimators=11, tfidf__use_idf=False, vect__max_df=0.5, vect__ngram_range=(1, 1), score=0.20598108025633202, total=  50.1s\n",
    "[Parallel(n_jobs=1)]: Done  19 out of  19 | elapsed: 29.3min remaining:    0.0s\n",
    "[CV] classifier__estimator__n_estimators=11, tfidf__use_idf=False, vect__max_df=0.5, vect__ngram_range=(1, 1) \n",
    "[CV]  classifier__estimator__n_estimators=11, tfidf__use_idf=False, vect__max_df=0.5, vect__ngram_range=(1, 1), score=0.2171193164479707, total=  50.4s\n",
    "[Parallel(n_jobs=1)]: Done  20 out of  20 | elapsed: 30.3min remaining:    0.0s\n",
    "[CV] classifier__estimator__n_estimators=11, tfidf__use_idf=False, vect__max_df=0.5, vect__ngram_range=(1, 1) \n",
    "[CV]  classifier__estimator__n_estimators=11, tfidf__use_idf=False, vect__max_df=0.5, vect__ngram_range=(1, 1), score=0.2070491303021056, total=  49.8s\n",
    "[Parallel(n_jobs=1)]: Done  21 out of  21 | elapsed: 31.3min remaining:    0.0s\n",
    "[CV] classifier__estimator__n_estimators=11, tfidf__use_idf=False, vect__max_df=0.5, vect__ngram_range=(1, 2) \n",
    "[CV]  classifier__estimator__n_estimators=11, tfidf__use_idf=False, vect__max_df=0.5, vect__ngram_range=(1, 2), score=0.21589868782422947, total= 1.9min\n",
    "[Parallel(n_jobs=1)]: Done  22 out of  22 | elapsed: 33.5min remaining:    0.0s\n",
    "[CV] classifier__estimator__n_estimators=11, tfidf__use_idf=False, vect__max_df=0.5, vect__ngram_range=(1, 2) \n",
    "[CV]  classifier__estimator__n_estimators=11, tfidf__use_idf=False, vect__max_df=0.5, vect__ngram_range=(1, 2), score=0.2162038449801648, total= 2.0min\n",
    "[Parallel(n_jobs=1)]: Done  23 out of  23 | elapsed: 35.7min remaining:    0.0s\n",
    "[CV] classifier__estimator__n_estimators=11, tfidf__use_idf=False, vect__max_df=0.5, vect__ngram_range=(1, 2) \n",
    "[CV]  classifier__estimator__n_estimators=11, tfidf__use_idf=False, vect__max_df=0.5, vect__ngram_range=(1, 2), score=0.21040585901739395, total= 1.9min\n",
    "[Parallel(n_jobs=1)]: Done  24 out of  24 | elapsed: 37.8min remaining:    0.0s\n",
    "[CV] classifier__estimator__n_estimators=11, tfidf__use_idf=False, vect__max_df=0.75, vect__ngram_range=(1, 1) \n",
    "[CV]  classifier__estimator__n_estimators=11, tfidf__use_idf=False, vect__max_df=0.75, vect__ngram_range=(1, 1), score=0.20735428745804088, total=  49.7s\n",
    "[Parallel(n_jobs=1)]: Done  25 out of  25 | elapsed: 38.8min remaining:    0.0s\n",
    "[CV] classifier__estimator__n_estimators=11, tfidf__use_idf=False, vect__max_df=0.75, vect__ngram_range=(1, 1) \n",
    "[CV]  classifier__estimator__n_estimators=11, tfidf__use_idf=False, vect__max_df=0.75, vect__ngram_range=(1, 1), score=0.2181873664937443, total=  50.7s\n",
    "[Parallel(n_jobs=1)]: Done  26 out of  26 | elapsed: 39.8min remaining:    0.0s\n",
    "[CV] classifier__estimator__n_estimators=11, tfidf__use_idf=False, vect__max_df=0.75, vect__ngram_range=(1, 1) \n",
    "[CV]  classifier__estimator__n_estimators=11, tfidf__use_idf=False, vect__max_df=0.75, vect__ngram_range=(1, 1), score=0.2148306377784559, total=  49.4s\n",
    "[Parallel(n_jobs=1)]: Done  27 out of  27 | elapsed: 40.8min remaining:    0.0s\n",
    "[CV] classifier__estimator__n_estimators=11, tfidf__use_idf=False, vect__max_df=0.75, vect__ngram_range=(1, 2) \n",
    "[CV]  classifier__estimator__n_estimators=11, tfidf__use_idf=False, vect__max_df=0.75, vect__ngram_range=(1, 2), score=0.21864510222764724, total= 1.8min\n",
    "[Parallel(n_jobs=1)]: Done  28 out of  28 | elapsed: 42.9min remaining:    0.0s\n",
    "[CV] classifier__estimator__n_estimators=11, tfidf__use_idf=False, vect__max_df=0.75, vect__ngram_range=(1, 2) \n",
    "[CV]  classifier__estimator__n_estimators=11, tfidf__use_idf=False, vect__max_df=0.75, vect__ngram_range=(1, 2), score=0.22261214525480622, total= 2.0min\n",
    "[Parallel(n_jobs=1)]: Done  29 out of  29 | elapsed: 45.1min remaining:    0.0s\n",
    "[CV] classifier__estimator__n_estimators=11, tfidf__use_idf=False, vect__max_df=0.75, vect__ngram_range=(1, 2) \n",
    "[CV]  classifier__estimator__n_estimators=11, tfidf__use_idf=False, vect__max_df=0.75, vect__ngram_range=(1, 2), score=0.21238938053097345, total= 1.8min\n",
    "[Parallel(n_jobs=1)]: Done  30 out of  30 | elapsed: 47.1min remaining:    0.0s\n",
    "[CV] classifier__estimator__n_estimators=11, tfidf__use_idf=False, vect__max_df=1.0, vect__ngram_range=(1, 1) \n",
    "[CV]  classifier__estimator__n_estimators=11, tfidf__use_idf=False, vect__max_df=1.0, vect__ngram_range=(1, 1), score=0.20582850167836436, total=  48.8s\n",
    "[Parallel(n_jobs=1)]: Done  31 out of  31 | elapsed: 48.1min remaining:    0.0s\n",
    "[CV] classifier__estimator__n_estimators=11, tfidf__use_idf=False, vect__max_df=1.0, vect__ngram_range=(1, 1) \n",
    "[CV]  classifier__estimator__n_estimators=11, tfidf__use_idf=False, vect__max_df=1.0, vect__ngram_range=(1, 1), score=0.21330485199877938, total=  50.0s\n",
    "[Parallel(n_jobs=1)]: Done  32 out of  32 | elapsed: 49.1min remaining:    0.0s\n",
    "[CV] classifier__estimator__n_estimators=11, tfidf__use_idf=False, vect__max_df=1.0, vect__ngram_range=(1, 1) \n",
    "[CV]  classifier__estimator__n_estimators=11, tfidf__use_idf=False, vect__max_df=1.0, vect__ngram_range=(1, 1), score=0.21147390906316754, total=  49.5s\n",
    "[Parallel(n_jobs=1)]: Done  33 out of  33 | elapsed: 50.0min remaining:    0.0s\n",
    "[CV] classifier__estimator__n_estimators=11, tfidf__use_idf=False, vect__max_df=1.0, vect__ngram_range=(1, 2) \n",
    "[CV]  classifier__estimator__n_estimators=11, tfidf__use_idf=False, vect__max_df=1.0, vect__ngram_range=(1, 2), score=0.21742447360390602, total= 1.8min\n",
    "[Parallel(n_jobs=1)]: Done  34 out of  34 | elapsed: 52.1min remaining:    0.0s\n",
    "[CV] classifier__estimator__n_estimators=11, tfidf__use_idf=False, vect__max_df=1.0, vect__ngram_range=(1, 2) \n",
    "[CV]  classifier__estimator__n_estimators=11, tfidf__use_idf=False, vect__max_df=1.0, vect__ngram_range=(1, 2), score=0.21788220933780897, total= 1.9min\n",
    "[Parallel(n_jobs=1)]: Done  35 out of  35 | elapsed: 54.2min remaining:    0.0s\n",
    "[CV] classifier__estimator__n_estimators=11, tfidf__use_idf=False, vect__max_df=1.0, vect__ngram_range=(1, 2) \n",
    "[CV]  classifier__estimator__n_estimators=11, tfidf__use_idf=False, vect__max_df=1.0, vect__ngram_range=(1, 2), score=0.2181873664937443, total= 1.8min\n",
    "[Parallel(n_jobs=1)]: Done  36 out of  36 | elapsed: 56.3min remaining:    0.0s\n",
    "[CV] classifier__estimator__n_estimators=12, tfidf__use_idf=True, vect__max_df=0.5, vect__ngram_range=(1, 1) \n",
    "[CV]  classifier__estimator__n_estimators=12, tfidf__use_idf=True, vect__max_df=0.5, vect__ngram_range=(1, 1), score=0.22154409520903265, total=  52.9s\n",
    "[Parallel(n_jobs=1)]: Done  37 out of  37 | elapsed: 57.3min remaining:    0.0s\n",
    "[CV] classifier__estimator__n_estimators=12, tfidf__use_idf=True, vect__max_df=0.5, vect__ngram_range=(1, 1) \n",
    "[CV]  classifier__estimator__n_estimators=12, tfidf__use_idf=True, vect__max_df=0.5, vect__ngram_range=(1, 1), score=0.23298748855660664, total=  53.6s\n",
    "[Parallel(n_jobs=1)]: Done  38 out of  38 | elapsed: 58.4min remaining:    0.0s\n",
    "[CV] classifier__estimator__n_estimators=12, tfidf__use_idf=True, vect__max_df=0.5, vect__ngram_range=(1, 1) \n",
    "[CV]  classifier__estimator__n_estimators=12, tfidf__use_idf=True, vect__max_df=0.5, vect__ngram_range=(1, 1), score=0.22093378089716204, total=  53.8s\n",
    "[Parallel(n_jobs=1)]: Done  39 out of  39 | elapsed: 59.5min remaining:    0.0s\n",
    "[CV] classifier__estimator__n_estimators=12, tfidf__use_idf=True, vect__max_df=0.5, vect__ngram_range=(1, 2) \n",
    "[CV]  classifier__estimator__n_estimators=12, tfidf__use_idf=True, vect__max_df=0.5, vect__ngram_range=(1, 2), score=0.23146170277693012, total= 2.1min\n",
    "[Parallel(n_jobs=1)]: Done  40 out of  40 | elapsed: 61.8min remaining:    0.0s\n",
    "[CV] classifier__estimator__n_estimators=12, tfidf__use_idf=True, vect__max_df=0.5, vect__ngram_range=(1, 2) \n",
    "[CV]  classifier__estimator__n_estimators=12, tfidf__use_idf=True, vect__max_df=0.5, vect__ngram_range=(1, 2), score=0.22810497406164174, total= 2.1min\n",
    "[Parallel(n_jobs=1)]: Done  41 out of  41 | elapsed: 64.1min remaining:    0.0s\n",
    "[CV] classifier__estimator__n_estimators=12, tfidf__use_idf=True, vect__max_df=0.5, vect__ngram_range=(1, 2) \n",
    "[CV]  classifier__estimator__n_estimators=12, tfidf__use_idf=True, vect__max_df=0.5, vect__ngram_range=(1, 2), score=0.22001830942935613, total= 2.1min\n",
    "[Parallel(n_jobs=1)]: Done  42 out of  42 | elapsed: 66.4min remaining:    0.0s\n",
    "[CV] classifier__estimator__n_estimators=12, tfidf__use_idf=True, vect__max_df=0.75, vect__ngram_range=(1, 1) \n",
    "[CV]  classifier__estimator__n_estimators=12, tfidf__use_idf=True, vect__max_df=0.75, vect__ngram_range=(1, 1), score=0.22642660970399756, total=  52.7s\n",
    "[Parallel(n_jobs=1)]: Done  43 out of  43 | elapsed: 67.5min remaining:    0.0s\n",
    "[CV] classifier__estimator__n_estimators=12, tfidf__use_idf=True, vect__max_df=0.75, vect__ngram_range=(1, 1) \n",
    "[CV]  classifier__estimator__n_estimators=12, tfidf__use_idf=True, vect__max_df=0.75, vect__ngram_range=(1, 1), score=0.2331400671345743, total=  54.2s\n",
    "[Parallel(n_jobs=1)]: Done  44 out of  44 | elapsed: 68.5min remaining:    0.0s\n",
    "[CV] classifier__estimator__n_estimators=12, tfidf__use_idf=True, vect__max_df=0.75, vect__ngram_range=(1, 1) \n",
    "[CV]  classifier__estimator__n_estimators=12, tfidf__use_idf=True, vect__max_df=0.75, vect__ngram_range=(1, 1), score=0.221391516631065, total=  53.3s\n",
    "[Parallel(n_jobs=1)]: Done  45 out of  45 | elapsed: 69.6min remaining:    0.0s\n",
    "[CV] classifier__estimator__n_estimators=12, tfidf__use_idf=True, vect__max_df=0.75, vect__ngram_range=(1, 2) \n",
    "[CV]  classifier__estimator__n_estimators=12, tfidf__use_idf=True, vect__max_df=0.75, vect__ngram_range=(1, 2), score=0.2308513884650595, total= 1.9min\n",
    "[Parallel(n_jobs=1)]: Done  46 out of  46 | elapsed: 71.7min remaining:    0.0s\n",
    "[CV] classifier__estimator__n_estimators=12, tfidf__use_idf=True, vect__max_df=0.75, vect__ngram_range=(1, 2) \n",
    "[CV]  classifier__estimator__n_estimators=12, tfidf__use_idf=True, vect__max_df=0.75, vect__ngram_range=(1, 2), score=0.2308513884650595, total= 2.0min\n",
    "[Parallel(n_jobs=1)]: Done  47 out of  47 | elapsed: 73.9min remaining:    0.0s\n",
    "[CV] classifier__estimator__n_estimators=12, tfidf__use_idf=True, vect__max_df=0.75, vect__ngram_range=(1, 2) \n",
    "[CV]  classifier__estimator__n_estimators=12, tfidf__use_idf=True, vect__max_df=0.75, vect__ngram_range=(1, 2), score=0.22841013121757706, total= 2.0min\n",
    "[Parallel(n_jobs=1)]: Done  48 out of  48 | elapsed: 76.2min remaining:    0.0s\n",
    "[CV] classifier__estimator__n_estimators=12, tfidf__use_idf=True, vect__max_df=1.0, vect__ngram_range=(1, 1) \n",
    "[CV]  classifier__estimator__n_estimators=12, tfidf__use_idf=True, vect__max_df=1.0, vect__ngram_range=(1, 1), score=0.22505340250228867, total=  51.9s\n",
    "[Parallel(n_jobs=1)]: Done  49 out of  49 | elapsed: 77.2min remaining:    0.0s\n",
    "[CV] classifier__estimator__n_estimators=12, tfidf__use_idf=True, vect__max_df=1.0, vect__ngram_range=(1, 1) \n",
    "[CV]  classifier__estimator__n_estimators=12, tfidf__use_idf=True, vect__max_df=1.0, vect__ngram_range=(1, 1), score=0.22047604516325908, total=  53.2s\n",
    "[CV] classifier__estimator__n_estimators=12, tfidf__use_idf=True, vect__max_df=1.0, vect__ngram_range=(1, 2) \n",
    "[CV]  classifier__estimator__n_estimators=12, tfidf__use_idf=True, vect__max_df=1.0, vect__ngram_range=(1, 2), score=0.22871528837351235, total= 1.9min\n",
    "[CV] classifier__estimator__n_estimators=12, tfidf__use_idf=True, vect__max_df=1.0, vect__ngram_range=(1, 2) \n",
    "[CV]  classifier__estimator__n_estimators=12, tfidf__use_idf=True, vect__max_df=1.0, vect__ngram_range=(1, 2), score=0.22810497406164174, total= 2.0min\n",
    "[CV] classifier__estimator__n_estimators=12, tfidf__use_idf=True, vect__max_df=1.0, vect__ngram_range=(1, 2) \n",
    "[CV]  classifier__estimator__n_estimators=12, tfidf__use_idf=True, vect__max_df=1.0, vect__ngram_range=(1, 2), score=0.22444308819041806, total= 1.8min\n",
    "[CV] classifier__estimator__n_estimators=12, tfidf__use_idf=False, vect__max_df=0.5, vect__ngram_range=(1, 1) \n",
    "[CV]  classifier__estimator__n_estimators=12, tfidf__use_idf=False, vect__max_df=0.5, vect__ngram_range=(1, 1), score=0.21986573085138847, total=  53.1s\n",
    "[CV] classifier__estimator__n_estimators=12, tfidf__use_idf=False, vect__max_df=0.5, vect__ngram_range=(1, 1) \n",
    "[CV]  classifier__estimator__n_estimators=12, tfidf__use_idf=False, vect__max_df=0.5, vect__ngram_range=(1, 1), score=0.22963075984131828, total=  53.5s\n",
    "[CV] classifier__estimator__n_estimators=12, tfidf__use_idf=False, vect__max_df=0.5, vect__ngram_range=(1, 1) \n",
    "[CV]  classifier__estimator__n_estimators=12, tfidf__use_idf=False, vect__max_df=0.5, vect__ngram_range=(1, 1), score=0.2187976808056149, total=  52.8s\n",
    "[CV] classifier__estimator__n_estimators=12, tfidf__use_idf=False, vect__max_df=0.5, vect__ngram_range=(1, 2) \n",
    "[CV]  classifier__estimator__n_estimators=12, tfidf__use_idf=False, vect__max_df=0.5, vect__ngram_range=(1, 2), score=0.22902044552944767, total= 1.9min\n",
    "[CV] classifier__estimator__n_estimators=12, tfidf__use_idf=False, vect__max_df=0.5, vect__ngram_range=(1, 2) \n",
    "[CV]  classifier__estimator__n_estimators=12, tfidf__use_idf=False, vect__max_df=0.5, vect__ngram_range=(1, 2), score=0.22520598108025633, total= 2.0min\n",
    "[CV] classifier__estimator__n_estimators=12, tfidf__use_idf=False, vect__max_df=0.5, vect__ngram_range=(1, 2) \n",
    "[CV]  classifier__estimator__n_estimators=12, tfidf__use_idf=False, vect__max_df=0.5, vect__ngram_range=(1, 2), score=0.22413793103448276, total= 2.0min\n",
    "[CV] classifier__estimator__n_estimators=12, tfidf__use_idf=False, vect__max_df=0.75, vect__ngram_range=(1, 1) \n",
    "[CV]  classifier__estimator__n_estimators=12, tfidf__use_idf=False, vect__max_df=0.75, vect__ngram_range=(1, 1), score=0.22322245956667683, total=  52.4s\n",
    "[CV] classifier__estimator__n_estimators=12, tfidf__use_idf=False, vect__max_df=0.75, vect__ngram_range=(1, 1) \n",
    "[CV]  classifier__estimator__n_estimators=12, tfidf__use_idf=False, vect__max_df=0.75, vect__ngram_range=(1, 1), score=0.22978333841928594, total=  53.0s\n",
    "[CV] classifier__estimator__n_estimators=12, tfidf__use_idf=False, vect__max_df=0.75, vect__ngram_range=(1, 1) \n",
    "[CV]  classifier__estimator__n_estimators=12, tfidf__use_idf=False, vect__max_df=0.75, vect__ngram_range=(1, 1), score=0.22886786695148, total=  52.6s\n",
    "[CV] classifier__estimator__n_estimators=12, tfidf__use_idf=False, vect__max_df=0.75, vect__ngram_range=(1, 2) \n",
    "[CV]  classifier__estimator__n_estimators=12, tfidf__use_idf=False, vect__max_df=0.75, vect__ngram_range=(1, 2), score=0.2308513884650595, total= 2.0min\n",
    "[CV] classifier__estimator__n_estimators=12, tfidf__use_idf=False, vect__max_df=0.75, vect__ngram_range=(1, 2) \n",
    "[CV]  classifier__estimator__n_estimators=12, tfidf__use_idf=False, vect__max_df=0.75, vect__ngram_range=(1, 2), score=0.23069880988709185, total= 1.9min\n",
    "[CV] classifier__estimator__n_estimators=12, tfidf__use_idf=False, vect__max_df=0.75, vect__ngram_range=(1, 2) \n",
    "[CV]  classifier__estimator__n_estimators=12, tfidf__use_idf=False, vect__max_df=0.75, vect__ngram_range=(1, 2), score=0.2268843454379005, total= 2.1min\n",
    "[CV] classifier__estimator__n_estimators=12, tfidf__use_idf=False, vect__max_df=1.0, vect__ngram_range=(1, 1) \n",
    "[CV]  classifier__estimator__n_estimators=12, tfidf__use_idf=False, vect__max_df=1.0, vect__ngram_range=(1, 1), score=0.21986573085138847, total=  53.4s\n",
    "[CV] classifier__estimator__n_estimators=12, tfidf__use_idf=False, vect__max_df=1.0, vect__ngram_range=(1, 1) \n",
    "[CV]  classifier__estimator__n_estimators=12, tfidf__use_idf=False, vect__max_df=1.0, vect__ngram_range=(1, 1), score=0.2282575526396094, total=  53.7s\n",
    "[CV] classifier__estimator__n_estimators=12, tfidf__use_idf=False, vect__max_df=1.0, vect__ngram_range=(1, 1) \n",
    "[CV]  classifier__estimator__n_estimators=12, tfidf__use_idf=False, vect__max_df=1.0, vect__ngram_range=(1, 1), score=0.2268843454379005, total=  53.4s\n",
    "[CV] classifier__estimator__n_estimators=12, tfidf__use_idf=False, vect__max_df=1.0, vect__ngram_range=(1, 2) \n",
    "[CV]  classifier__estimator__n_estimators=12, tfidf__use_idf=False, vect__max_df=1.0, vect__ngram_range=(1, 2), score=0.2233750381446445, total= 1.9min\n",
    "[CV] classifier__estimator__n_estimators=12, tfidf__use_idf=False, vect__max_df=1.0, vect__ngram_range=(1, 2) \n",
    "[CV]  classifier__estimator__n_estimators=12, tfidf__use_idf=False, vect__max_df=1.0, vect__ngram_range=(1, 2), score=0.22902044552944767, total= 2.2min\n",
    "[CV] classifier__estimator__n_estimators=12, tfidf__use_idf=False, vect__max_df=1.0, vect__ngram_range=(1, 2) \n",
    "[CV]  classifier__estimator__n_estimators=12, tfidf__use_idf=False, vect__max_df=1.0, vect__ngram_range=(1, 2), score=0.22978333841928594, total= 1.9min\n",
    "[CV] classifier__estimator__n_estimators=13, tfidf__use_idf=True, vect__max_df=0.5, vect__ngram_range=(1, 1) \n",
    "[CV]  classifier__estimator__n_estimators=13, tfidf__use_idf=True, vect__max_df=0.5, vect__ngram_range=(1, 1), score=0.21361000915471468, total=  56.8s\n",
    "[CV] classifier__estimator__n_estimators=13, tfidf__use_idf=True, vect__max_df=0.5, vect__ngram_range=(1, 1) \n",
    "[CV]  classifier__estimator__n_estimators=13, tfidf__use_idf=True, vect__max_df=0.5, vect__ngram_range=(1, 1), score=0.22245956667683858, total=  57.5s\n",
    "[CV] classifier__estimator__n_estimators=13, tfidf__use_idf=True, vect__max_df=0.5, vect__ngram_range=(1, 1) \n",
    "[CV]  classifier__estimator__n_estimators=13, tfidf__use_idf=True, vect__max_df=0.5, vect__ngram_range=(1, 1), score=0.21635642355813245, total=  56.9s\n",
    "[CV] classifier__estimator__n_estimators=13, tfidf__use_idf=True, vect__max_df=0.5, vect__ngram_range=(1, 2) \n",
    "[CV]  classifier__estimator__n_estimators=13, tfidf__use_idf=True, vect__max_df=0.5, vect__ngram_range=(1, 2), score=0.2233750381446445, total= 2.1min\n",
    "[CV] classifier__estimator__n_estimators=13, tfidf__use_idf=True, vect__max_df=0.5, vect__ngram_range=(1, 2) \n",
    "[CV]  classifier__estimator__n_estimators=13, tfidf__use_idf=True, vect__max_df=0.5, vect__ngram_range=(1, 2), score=0.221391516631065, total= 2.2min\n",
    "[CV] classifier__estimator__n_estimators=13, tfidf__use_idf=True, vect__max_df=0.5, vect__ngram_range=(1, 2) \n",
    "[CV]  classifier__estimator__n_estimators=13, tfidf__use_idf=True, vect__max_df=0.5, vect__ngram_range=(1, 2), score=0.21696673787000306, total= 2.1min\n",
    "[CV] classifier__estimator__n_estimators=13, tfidf__use_idf=True, vect__max_df=0.75, vect__ngram_range=(1, 1) \n",
    "[CV]  classifier__estimator__n_estimators=13, tfidf__use_idf=True, vect__max_df=0.75, vect__ngram_range=(1, 1), score=0.21177906621910284, total=  57.1s\n",
    "[CV] classifier__estimator__n_estimators=13, tfidf__use_idf=True, vect__max_df=0.75, vect__ngram_range=(1, 1) \n",
    "[CV]  classifier__estimator__n_estimators=13, tfidf__use_idf=True, vect__max_df=0.75, vect__ngram_range=(1, 1), score=0.22261214525480622, total=  57.5s\n",
    "[CV] classifier__estimator__n_estimators=13, tfidf__use_idf=True, vect__max_df=0.75, vect__ngram_range=(1, 1) \n",
    "[CV]  classifier__estimator__n_estimators=13, tfidf__use_idf=True, vect__max_df=0.75, vect__ngram_range=(1, 1), score=0.21574610924626184, total=  56.9s\n",
    "[CV] classifier__estimator__n_estimators=13, tfidf__use_idf=True, vect__max_df=0.75, vect__ngram_range=(1, 2) \n",
    "[CV]  classifier__estimator__n_estimators=13, tfidf__use_idf=True, vect__max_df=0.75, vect__ngram_range=(1, 2), score=0.21849252364967958, total= 2.2min\n",
    "[CV] classifier__estimator__n_estimators=13, tfidf__use_idf=True, vect__max_df=0.75, vect__ngram_range=(1, 2) \n",
    "[CV]  classifier__estimator__n_estimators=13, tfidf__use_idf=True, vect__max_df=0.75, vect__ngram_range=(1, 2), score=0.22779981690570644, total= 2.2min\n",
    "[CV] classifier__estimator__n_estimators=13, tfidf__use_idf=True, vect__max_df=0.75, vect__ngram_range=(1, 2) \n",
    "[CV]  classifier__estimator__n_estimators=13, tfidf__use_idf=True, vect__max_df=0.75, vect__ngram_range=(1, 2), score=0.2177296307598413, total= 2.1min\n",
    "[CV] classifier__estimator__n_estimators=13, tfidf__use_idf=True, vect__max_df=1.0, vect__ngram_range=(1, 1) \n",
    "[CV]  classifier__estimator__n_estimators=13, tfidf__use_idf=True, vect__max_df=1.0, vect__ngram_range=(1, 1), score=0.2168141592920354, total=  56.6s\n",
    "[CV] classifier__estimator__n_estimators=13, tfidf__use_idf=True, vect__max_df=1.0, vect__ngram_range=(1, 1) \n",
    "[CV]  classifier__estimator__n_estimators=13, tfidf__use_idf=True, vect__max_df=1.0, vect__ngram_range=(1, 1), score=0.21757705218187368, total=  57.1s\n",
    "[CV] classifier__estimator__n_estimators=13, tfidf__use_idf=True, vect__max_df=1.0, vect__ngram_range=(1, 1) \n",
    "[CV]  classifier__estimator__n_estimators=13, tfidf__use_idf=True, vect__max_df=1.0, vect__ngram_range=(1, 1), score=0.20918523039365272, total=  56.5s\n",
    "[CV] classifier__estimator__n_estimators=13, tfidf__use_idf=True, vect__max_df=1.0, vect__ngram_range=(1, 2) \n",
    "[CV]  classifier__estimator__n_estimators=13, tfidf__use_idf=True, vect__max_df=1.0, vect__ngram_range=(1, 2), score=0.22184925236496797, total= 2.1min\n",
    "[CV] classifier__estimator__n_estimators=13, tfidf__use_idf=True, vect__max_df=1.0, vect__ngram_range=(1, 2) \n",
    "[CV]  classifier__estimator__n_estimators=13, tfidf__use_idf=True, vect__max_df=1.0, vect__ngram_range=(1, 2), score=0.2187976808056149, total= 2.3min\n",
    "[CV] classifier__estimator__n_estimators=13, tfidf__use_idf=True, vect__max_df=1.0, vect__ngram_range=(1, 2) \n",
    "[CV]  classifier__estimator__n_estimators=13, tfidf__use_idf=True, vect__max_df=1.0, vect__ngram_range=(1, 2), score=0.21605126640219713, total= 2.2min\n",
    "[CV] classifier__estimator__n_estimators=13, tfidf__use_idf=False, vect__max_df=0.5, vect__ngram_range=(1, 1) \n",
    "[CV]  classifier__estimator__n_estimators=13, tfidf__use_idf=False, vect__max_df=0.5, vect__ngram_range=(1, 1), score=0.21391516631065, total=  56.2s\n",
    "[CV] classifier__estimator__n_estimators=13, tfidf__use_idf=False, vect__max_df=0.5, vect__ngram_range=(1, 1) \n",
    "[CV]  classifier__estimator__n_estimators=13, tfidf__use_idf=False, vect__max_df=0.5, vect__ngram_range=(1, 1), score=0.2197131522734208, total=  56.9s\n",
    "[CV] classifier__estimator__n_estimators=13, tfidf__use_idf=False, vect__max_df=0.5, vect__ngram_range=(1, 1) \n",
    "[CV]  classifier__estimator__n_estimators=13, tfidf__use_idf=False, vect__max_df=0.5, vect__ngram_range=(1, 1), score=0.21315227342081172, total=  56.2s\n",
    "[CV] classifier__estimator__n_estimators=13, tfidf__use_idf=False, vect__max_df=0.5, vect__ngram_range=(1, 2) \n",
    "[CV]  classifier__estimator__n_estimators=13, tfidf__use_idf=False, vect__max_df=0.5, vect__ngram_range=(1, 2), score=0.22215440952090326, total= 2.2min\n",
    "[CV] classifier__estimator__n_estimators=13, tfidf__use_idf=False, vect__max_df=0.5, vect__ngram_range=(1, 2) \n",
    "[CV]  classifier__estimator__n_estimators=13, tfidf__use_idf=False, vect__max_df=0.5, vect__ngram_range=(1, 2), score=0.221391516631065, total= 2.2min\n",
    "[CV] classifier__estimator__n_estimators=13, tfidf__use_idf=False, vect__max_df=0.5, vect__ngram_range=(1, 2) \n",
    "[CV]  classifier__estimator__n_estimators=13, tfidf__use_idf=False, vect__max_df=0.5, vect__ngram_range=(1, 2), score=0.21742447360390602, total= 2.2min\n",
    "[CV] classifier__estimator__n_estimators=13, tfidf__use_idf=False, vect__max_df=0.75, vect__ngram_range=(1, 1) \n",
    "[CV]  classifier__estimator__n_estimators=13, tfidf__use_idf=False, vect__max_df=0.75, vect__ngram_range=(1, 1), score=0.21361000915471468, total=  57.3s\n",
    "[CV] classifier__estimator__n_estimators=13, tfidf__use_idf=False, vect__max_df=0.75, vect__ngram_range=(1, 1) \n",
    "[CV]  classifier__estimator__n_estimators=13, tfidf__use_idf=False, vect__max_df=0.75, vect__ngram_range=(1, 1), score=0.221391516631065, total=  57.6s\n",
    "[CV] classifier__estimator__n_estimators=13, tfidf__use_idf=False, vect__max_df=0.75, vect__ngram_range=(1, 1) \n",
    "[CV]  classifier__estimator__n_estimators=13, tfidf__use_idf=False, vect__max_df=0.75, vect__ngram_range=(1, 1), score=0.21849252364967958, total=  56.0s\n",
    "[CV] classifier__estimator__n_estimators=13, tfidf__use_idf=False, vect__max_df=0.75, vect__ngram_range=(1, 2) \n",
    "[CV]  classifier__estimator__n_estimators=13, tfidf__use_idf=False, vect__max_df=0.75, vect__ngram_range=(1, 2), score=0.22261214525480622, total= 2.1min\n",
    "[CV] classifier__estimator__n_estimators=13, tfidf__use_idf=False, vect__max_df=0.75, vect__ngram_range=(1, 2) \n",
    "[CV]  classifier__estimator__n_estimators=13, tfidf__use_idf=False, vect__max_df=0.75, vect__ngram_range=(1, 2), score=0.22551113823619165, total= 2.2min\n",
    "[CV] classifier__estimator__n_estimators=13, tfidf__use_idf=False, vect__max_df=0.75, vect__ngram_range=(1, 2) \n",
    "[CV]  classifier__estimator__n_estimators=13, tfidf__use_idf=False, vect__max_df=0.75, vect__ngram_range=(1, 2), score=0.2148306377784559, total= 2.2min\n",
    "[CV] classifier__estimator__n_estimators=13, tfidf__use_idf=False, vect__max_df=1.0, vect__ngram_range=(1, 1) \n",
    "[CV]  classifier__estimator__n_estimators=13, tfidf__use_idf=False, vect__max_df=1.0, vect__ngram_range=(1, 1), score=0.2105584375953616, total=  56.1s\n",
    "[CV] classifier__estimator__n_estimators=13, tfidf__use_idf=False, vect__max_df=1.0, vect__ngram_range=(1, 1) \n",
    "[CV]  classifier__estimator__n_estimators=13, tfidf__use_idf=False, vect__max_df=1.0, vect__ngram_range=(1, 1), score=0.2220018309429356, total=  56.9s\n",
    "[CV] classifier__estimator__n_estimators=13, tfidf__use_idf=False, vect__max_df=1.0, vect__ngram_range=(1, 1) \n",
    "[CV]  classifier__estimator__n_estimators=13, tfidf__use_idf=False, vect__max_df=1.0, vect__ngram_range=(1, 1), score=0.21895025938358254, total=  56.7s\n",
    "[CV] classifier__estimator__n_estimators=13, tfidf__use_idf=False, vect__max_df=1.0, vect__ngram_range=(1, 2) \n",
    "[CV]  classifier__estimator__n_estimators=13, tfidf__use_idf=False, vect__max_df=1.0, vect__ngram_range=(1, 2), score=0.2148306377784559, total= 2.2min\n",
    "[CV] classifier__estimator__n_estimators=13, tfidf__use_idf=False, vect__max_df=1.0, vect__ngram_range=(1, 2) \n",
    "[CV]  classifier__estimator__n_estimators=13, tfidf__use_idf=False, vect__max_df=1.0, vect__ngram_range=(1, 2), score=0.21833994507171192, total= 2.4min\n",
    "[CV] classifier__estimator__n_estimators=13, tfidf__use_idf=False, vect__max_df=1.0, vect__ngram_range=(1, 2) \n",
    "[CV]  classifier__estimator__n_estimators=13, tfidf__use_idf=False, vect__max_df=1.0, vect__ngram_range=(1, 2), score=0.22154409520903265, total= 2.2min\n",
    "[Parallel(n_jobs=1)]: Done 108 out of 108 | elapsed: 179.6min finished\n",
    "GridSearchCV(cv=None, error_score='raise',\n",
    "       estimator=Pipeline(memory=None,\n",
    "     steps=[('vect', CountVectorizer(analyzer='word', binary=False, decode_error='strict',\n",
    "        dtype=<class 'numpy.int64'>, encoding='utf-8', input='content',\n",
    "        lowercase=True, max_df=1.0, max_features=None, min_df=1,\n",
    "        ngram_range=(1, 1), preprocessor=None, stop_words=None,\n",
    "        strip...,\n",
    "            oob_score=False, random_state=42, verbose=0, warm_start=False),\n",
    "           n_jobs=1))]),\n",
    "       fit_params=None, iid=True, n_jobs=1,\n",
    "       param_grid={'classifier__estimator__n_estimators': [11, 12, 13], 'vect__ngram_range': ((1, 1), (1, 2)), 'vect__max_df': (0.5, 0.75, 1.0), 'tfidf__use_idf': (True, False)},\n",
    "       pre_dispatch='2*n_jobs', refit=True, return_train_score='warn',\n",
    "       scoring=None, verbose=50)"
   ]
  },
  {
   "cell_type": "markdown",
   "metadata": {},
   "source": [
    "{'classifier__estimator__n_estimators': 12,\n",
    " 'tfidf__use_idf': True,\n",
    " 'vect__max_df': 0.75,\n",
    " 'vect__ngram_range': (1, 2)}"
   ]
  },
  {
   "cell_type": "markdown",
   "metadata": {},
   "source": [
    "### 7. Test your model\n",
    "Show the accuracy, precision, and recall of the tuned model.  \n",
    "\n",
    "Since this project focuses on code quality, process, and  pipelines, there is no minimum performance metric needed to pass. However, make sure to fine tune your models for accuracy, precision and recall to make your project stand out - especially for your portfolio!"
   ]
  },
  {
   "cell_type": "markdown",
   "metadata": {},
   "source": [
    "***Note that I tested the results of the GridSearch only once, as the running of the GridSearch took very, very long. Pipeline 2 is replicating the results of the GridSearch***"
   ]
  },
  {
   "cell_type": "code",
   "execution_count": 20,
   "metadata": {},
   "outputs": [],
   "source": [
    "Y_pred_GS = pd.DataFrame(cv.predict(X_test))"
   ]
  },
  {
   "cell_type": "code",
   "execution_count": 21,
   "metadata": {},
   "outputs": [
    {
     "name": "stdout",
     "output_type": "stream",
     "text": [
      "                categories precision    recall    fscore\n",
      "0                  related  0.771251  0.791425  0.766427\n",
      "1                  request  0.882071  0.884651  0.868169\n",
      "2                    offer  0.990866  0.995423  0.993139\n",
      "3              aid_related  0.745637   0.73787  0.726531\n",
      "4             medical_help  0.909314  0.925389  0.897141\n",
      "5         medical_products  0.949574  0.955905  0.939422\n",
      "6        search_and_rescue  0.966241  0.973299  0.961536\n",
      "7                 security  0.981732  0.981385  0.972316\n",
      "8                 military   0.95639  0.967043  0.953681\n",
      "9              child_alone         1         1         1\n",
      "10                   water    0.9463  0.948276  0.935318\n",
      "11                    food  0.921022   0.92661  0.917769\n",
      "12                 shelter  0.924933  0.930729   0.91481\n",
      "13                clothing  0.981908   0.98459   0.97879\n",
      "14                   money  0.972784  0.977724  0.967835\n",
      "15          missing_people   0.98437  0.988099  0.982618\n",
      "16                refugees  0.953136  0.966128  0.952236\n",
      "17                   death    0.9566  0.959109  0.944622\n",
      "18               other_aid  0.837442  0.870156  0.816804\n",
      "19  infrastructure_related  0.867335  0.930424  0.897773\n",
      "20               transport  0.947564  0.958499  0.943458\n",
      "21               buildings  0.939599  0.951633  0.932647\n",
      "22             electricity  0.955035  0.976655  0.965724\n",
      "23                   tools  0.989348   0.99466  0.991997\n",
      "24               hospitals  0.978751  0.989167  0.983932\n",
      "25                   shops   0.99269  0.996338  0.994511\n",
      "26             aid_centers  0.976941  0.988251  0.982564\n",
      "27    other_infrastructure  0.904422  0.950565  0.926919\n",
      "28         weather_related  0.844452   0.84376  0.830721\n",
      "29                  floods  0.929905  0.933933   0.91397\n",
      "30                   storm  0.916865  0.925847  0.911563\n",
      "31                    fire  0.978451  0.989167   0.98378\n",
      "32              earthquake  0.962311  0.963686  0.961197\n",
      "33                    cold   0.97576  0.981385  0.974355\n",
      "34           other_weather   0.93344  0.948276  0.925908\n",
      "35           direct_report  0.847175  0.851541  0.825744\n"
     ]
    },
    {
     "name": "stderr",
     "output_type": "stream",
     "text": [
      "/opt/conda/lib/python3.6/site-packages/sklearn/metrics/classification.py:1135: UndefinedMetricWarning: Precision and F-score are ill-defined and being set to 0.0 in labels with no predicted samples.\n",
      "  'precision', 'predicted', average, warn_for)\n"
     ]
    },
    {
     "data": {
      "text/html": [
       "<div>\n",
       "<style scoped>\n",
       "    .dataframe tbody tr th:only-of-type {\n",
       "        vertical-align: middle;\n",
       "    }\n",
       "\n",
       "    .dataframe tbody tr th {\n",
       "        vertical-align: top;\n",
       "    }\n",
       "\n",
       "    .dataframe thead th {\n",
       "        text-align: right;\n",
       "    }\n",
       "</style>\n",
       "<table border=\"1\" class=\"dataframe\">\n",
       "  <thead>\n",
       "    <tr style=\"text-align: right;\">\n",
       "      <th></th>\n",
       "      <th>categories</th>\n",
       "      <th>precision</th>\n",
       "      <th>recall</th>\n",
       "      <th>fscore</th>\n",
       "    </tr>\n",
       "  </thead>\n",
       "  <tbody>\n",
       "    <tr>\n",
       "      <th>0</th>\n",
       "      <td>related</td>\n",
       "      <td>0.771251</td>\n",
       "      <td>0.791425</td>\n",
       "      <td>0.766427</td>\n",
       "    </tr>\n",
       "    <tr>\n",
       "      <th>1</th>\n",
       "      <td>request</td>\n",
       "      <td>0.882071</td>\n",
       "      <td>0.884651</td>\n",
       "      <td>0.868169</td>\n",
       "    </tr>\n",
       "    <tr>\n",
       "      <th>2</th>\n",
       "      <td>offer</td>\n",
       "      <td>0.990866</td>\n",
       "      <td>0.995423</td>\n",
       "      <td>0.993139</td>\n",
       "    </tr>\n",
       "    <tr>\n",
       "      <th>3</th>\n",
       "      <td>aid_related</td>\n",
       "      <td>0.745637</td>\n",
       "      <td>0.73787</td>\n",
       "      <td>0.726531</td>\n",
       "    </tr>\n",
       "    <tr>\n",
       "      <th>4</th>\n",
       "      <td>medical_help</td>\n",
       "      <td>0.909314</td>\n",
       "      <td>0.925389</td>\n",
       "      <td>0.897141</td>\n",
       "    </tr>\n",
       "    <tr>\n",
       "      <th>5</th>\n",
       "      <td>medical_products</td>\n",
       "      <td>0.949574</td>\n",
       "      <td>0.955905</td>\n",
       "      <td>0.939422</td>\n",
       "    </tr>\n",
       "    <tr>\n",
       "      <th>6</th>\n",
       "      <td>search_and_rescue</td>\n",
       "      <td>0.966241</td>\n",
       "      <td>0.973299</td>\n",
       "      <td>0.961536</td>\n",
       "    </tr>\n",
       "    <tr>\n",
       "      <th>7</th>\n",
       "      <td>security</td>\n",
       "      <td>0.981732</td>\n",
       "      <td>0.981385</td>\n",
       "      <td>0.972316</td>\n",
       "    </tr>\n",
       "    <tr>\n",
       "      <th>8</th>\n",
       "      <td>military</td>\n",
       "      <td>0.95639</td>\n",
       "      <td>0.967043</td>\n",
       "      <td>0.953681</td>\n",
       "    </tr>\n",
       "    <tr>\n",
       "      <th>9</th>\n",
       "      <td>child_alone</td>\n",
       "      <td>1</td>\n",
       "      <td>1</td>\n",
       "      <td>1</td>\n",
       "    </tr>\n",
       "    <tr>\n",
       "      <th>10</th>\n",
       "      <td>water</td>\n",
       "      <td>0.9463</td>\n",
       "      <td>0.948276</td>\n",
       "      <td>0.935318</td>\n",
       "    </tr>\n",
       "    <tr>\n",
       "      <th>11</th>\n",
       "      <td>food</td>\n",
       "      <td>0.921022</td>\n",
       "      <td>0.92661</td>\n",
       "      <td>0.917769</td>\n",
       "    </tr>\n",
       "    <tr>\n",
       "      <th>12</th>\n",
       "      <td>shelter</td>\n",
       "      <td>0.924933</td>\n",
       "      <td>0.930729</td>\n",
       "      <td>0.91481</td>\n",
       "    </tr>\n",
       "    <tr>\n",
       "      <th>13</th>\n",
       "      <td>clothing</td>\n",
       "      <td>0.981908</td>\n",
       "      <td>0.98459</td>\n",
       "      <td>0.97879</td>\n",
       "    </tr>\n",
       "    <tr>\n",
       "      <th>14</th>\n",
       "      <td>money</td>\n",
       "      <td>0.972784</td>\n",
       "      <td>0.977724</td>\n",
       "      <td>0.967835</td>\n",
       "    </tr>\n",
       "    <tr>\n",
       "      <th>15</th>\n",
       "      <td>missing_people</td>\n",
       "      <td>0.98437</td>\n",
       "      <td>0.988099</td>\n",
       "      <td>0.982618</td>\n",
       "    </tr>\n",
       "    <tr>\n",
       "      <th>16</th>\n",
       "      <td>refugees</td>\n",
       "      <td>0.953136</td>\n",
       "      <td>0.966128</td>\n",
       "      <td>0.952236</td>\n",
       "    </tr>\n",
       "    <tr>\n",
       "      <th>17</th>\n",
       "      <td>death</td>\n",
       "      <td>0.9566</td>\n",
       "      <td>0.959109</td>\n",
       "      <td>0.944622</td>\n",
       "    </tr>\n",
       "    <tr>\n",
       "      <th>18</th>\n",
       "      <td>other_aid</td>\n",
       "      <td>0.837442</td>\n",
       "      <td>0.870156</td>\n",
       "      <td>0.816804</td>\n",
       "    </tr>\n",
       "    <tr>\n",
       "      <th>19</th>\n",
       "      <td>infrastructure_related</td>\n",
       "      <td>0.867335</td>\n",
       "      <td>0.930424</td>\n",
       "      <td>0.897773</td>\n",
       "    </tr>\n",
       "    <tr>\n",
       "      <th>20</th>\n",
       "      <td>transport</td>\n",
       "      <td>0.947564</td>\n",
       "      <td>0.958499</td>\n",
       "      <td>0.943458</td>\n",
       "    </tr>\n",
       "    <tr>\n",
       "      <th>21</th>\n",
       "      <td>buildings</td>\n",
       "      <td>0.939599</td>\n",
       "      <td>0.951633</td>\n",
       "      <td>0.932647</td>\n",
       "    </tr>\n",
       "    <tr>\n",
       "      <th>22</th>\n",
       "      <td>electricity</td>\n",
       "      <td>0.955035</td>\n",
       "      <td>0.976655</td>\n",
       "      <td>0.965724</td>\n",
       "    </tr>\n",
       "    <tr>\n",
       "      <th>23</th>\n",
       "      <td>tools</td>\n",
       "      <td>0.989348</td>\n",
       "      <td>0.99466</td>\n",
       "      <td>0.991997</td>\n",
       "    </tr>\n",
       "    <tr>\n",
       "      <th>24</th>\n",
       "      <td>hospitals</td>\n",
       "      <td>0.978751</td>\n",
       "      <td>0.989167</td>\n",
       "      <td>0.983932</td>\n",
       "    </tr>\n",
       "    <tr>\n",
       "      <th>25</th>\n",
       "      <td>shops</td>\n",
       "      <td>0.99269</td>\n",
       "      <td>0.996338</td>\n",
       "      <td>0.994511</td>\n",
       "    </tr>\n",
       "    <tr>\n",
       "      <th>26</th>\n",
       "      <td>aid_centers</td>\n",
       "      <td>0.976941</td>\n",
       "      <td>0.988251</td>\n",
       "      <td>0.982564</td>\n",
       "    </tr>\n",
       "    <tr>\n",
       "      <th>27</th>\n",
       "      <td>other_infrastructure</td>\n",
       "      <td>0.904422</td>\n",
       "      <td>0.950565</td>\n",
       "      <td>0.926919</td>\n",
       "    </tr>\n",
       "    <tr>\n",
       "      <th>28</th>\n",
       "      <td>weather_related</td>\n",
       "      <td>0.844452</td>\n",
       "      <td>0.84376</td>\n",
       "      <td>0.830721</td>\n",
       "    </tr>\n",
       "    <tr>\n",
       "      <th>29</th>\n",
       "      <td>floods</td>\n",
       "      <td>0.929905</td>\n",
       "      <td>0.933933</td>\n",
       "      <td>0.91397</td>\n",
       "    </tr>\n",
       "    <tr>\n",
       "      <th>30</th>\n",
       "      <td>storm</td>\n",
       "      <td>0.916865</td>\n",
       "      <td>0.925847</td>\n",
       "      <td>0.911563</td>\n",
       "    </tr>\n",
       "    <tr>\n",
       "      <th>31</th>\n",
       "      <td>fire</td>\n",
       "      <td>0.978451</td>\n",
       "      <td>0.989167</td>\n",
       "      <td>0.98378</td>\n",
       "    </tr>\n",
       "    <tr>\n",
       "      <th>32</th>\n",
       "      <td>earthquake</td>\n",
       "      <td>0.962311</td>\n",
       "      <td>0.963686</td>\n",
       "      <td>0.961197</td>\n",
       "    </tr>\n",
       "    <tr>\n",
       "      <th>33</th>\n",
       "      <td>cold</td>\n",
       "      <td>0.97576</td>\n",
       "      <td>0.981385</td>\n",
       "      <td>0.974355</td>\n",
       "    </tr>\n",
       "    <tr>\n",
       "      <th>34</th>\n",
       "      <td>other_weather</td>\n",
       "      <td>0.93344</td>\n",
       "      <td>0.948276</td>\n",
       "      <td>0.925908</td>\n",
       "    </tr>\n",
       "    <tr>\n",
       "      <th>35</th>\n",
       "      <td>direct_report</td>\n",
       "      <td>0.847175</td>\n",
       "      <td>0.851541</td>\n",
       "      <td>0.825744</td>\n",
       "    </tr>\n",
       "  </tbody>\n",
       "</table>\n",
       "</div>"
      ],
      "text/plain": [
       "                categories precision    recall    fscore\n",
       "0                  related  0.771251  0.791425  0.766427\n",
       "1                  request  0.882071  0.884651  0.868169\n",
       "2                    offer  0.990866  0.995423  0.993139\n",
       "3              aid_related  0.745637   0.73787  0.726531\n",
       "4             medical_help  0.909314  0.925389  0.897141\n",
       "5         medical_products  0.949574  0.955905  0.939422\n",
       "6        search_and_rescue  0.966241  0.973299  0.961536\n",
       "7                 security  0.981732  0.981385  0.972316\n",
       "8                 military   0.95639  0.967043  0.953681\n",
       "9              child_alone         1         1         1\n",
       "10                   water    0.9463  0.948276  0.935318\n",
       "11                    food  0.921022   0.92661  0.917769\n",
       "12                 shelter  0.924933  0.930729   0.91481\n",
       "13                clothing  0.981908   0.98459   0.97879\n",
       "14                   money  0.972784  0.977724  0.967835\n",
       "15          missing_people   0.98437  0.988099  0.982618\n",
       "16                refugees  0.953136  0.966128  0.952236\n",
       "17                   death    0.9566  0.959109  0.944622\n",
       "18               other_aid  0.837442  0.870156  0.816804\n",
       "19  infrastructure_related  0.867335  0.930424  0.897773\n",
       "20               transport  0.947564  0.958499  0.943458\n",
       "21               buildings  0.939599  0.951633  0.932647\n",
       "22             electricity  0.955035  0.976655  0.965724\n",
       "23                   tools  0.989348   0.99466  0.991997\n",
       "24               hospitals  0.978751  0.989167  0.983932\n",
       "25                   shops   0.99269  0.996338  0.994511\n",
       "26             aid_centers  0.976941  0.988251  0.982564\n",
       "27    other_infrastructure  0.904422  0.950565  0.926919\n",
       "28         weather_related  0.844452   0.84376  0.830721\n",
       "29                  floods  0.929905  0.933933   0.91397\n",
       "30                   storm  0.916865  0.925847  0.911563\n",
       "31                    fire  0.978451  0.989167   0.98378\n",
       "32              earthquake  0.962311  0.963686  0.961197\n",
       "33                    cold   0.97576  0.981385  0.974355\n",
       "34           other_weather   0.93344  0.948276  0.925908\n",
       "35           direct_report  0.847175  0.851541  0.825744"
      ]
     },
     "execution_count": 21,
     "metadata": {},
     "output_type": "execute_result"
    }
   ],
   "source": [
    "print_metrics(Y_test, Y_pred_GS)"
   ]
  },
  {
   "cell_type": "code",
   "execution_count": 24,
   "metadata": {},
   "outputs": [],
   "source": [
    "# Definition of pipeline2 that replicates the results of the GridSearch\n",
    "pipeline2 = Pipeline([\n",
    "                ('vect', CountVectorizer(tokenizer=tokenize, max_df=0.75, ngram_range=(1, 2))),\n",
    "                ('tfidf', TfidfTransformer()),\n",
    "                ('classifier', MultiOutputClassifier(RandomForestClassifier(random_state=42, n_estimators=12)))\n",
    "            ])"
   ]
  },
  {
   "cell_type": "code",
   "execution_count": 25,
   "metadata": {},
   "outputs": [
    {
     "data": {
      "text/plain": [
       "Pipeline(memory=None,\n",
       "     steps=[('vect', CountVectorizer(analyzer='word', binary=False, decode_error='strict',\n",
       "        dtype=<class 'numpy.int64'>, encoding='utf-8', input='content',\n",
       "        lowercase=True, max_df=0.75, max_features=None, min_df=1,\n",
       "        ngram_range=(1, 2), preprocessor=None, stop_words=None,\n",
       "        stri...,\n",
       "            oob_score=False, random_state=42, verbose=0, warm_start=False),\n",
       "           n_jobs=1))])"
      ]
     },
     "execution_count": 25,
     "metadata": {},
     "output_type": "execute_result"
    }
   ],
   "source": [
    "#fit defined pipeline2\n",
    "pipeline2.fit(X_train, Y_train)"
   ]
  },
  {
   "cell_type": "code",
   "execution_count": 26,
   "metadata": {},
   "outputs": [],
   "source": [
    "#predict based on pipeline2 \n",
    "Y_pred2=pd.DataFrame(pipeline2.predict(X_test))"
   ]
  },
  {
   "cell_type": "markdown",
   "metadata": {},
   "source": [
    "Comparing performance of the models associated with pipeline 1 and pipeline 2"
   ]
  },
  {
   "cell_type": "code",
   "execution_count": 29,
   "metadata": {},
   "outputs": [
    {
     "name": "stdout",
     "output_type": "stream",
     "text": [
      "Overall average precision is: 0.931493498224\n",
      "Overall average recall is: 0.940638456583\n",
      "Overall average fscore is: 0.925891246715\n"
     ]
    },
    {
     "name": "stderr",
     "output_type": "stream",
     "text": [
      "/opt/conda/lib/python3.6/site-packages/sklearn/metrics/classification.py:1135: UndefinedMetricWarning: Precision and F-score are ill-defined and being set to 0.0 in labels with no predicted samples.\n",
      "  'precision', 'predicted', average, warn_for)\n"
     ]
    }
   ],
   "source": [
    "# print results of prediction created with pipeline1\n",
    "results1=print_metrics(Y_test, Y_pred1)"
   ]
  },
  {
   "cell_type": "code",
   "execution_count": 30,
   "metadata": {},
   "outputs": [
    {
     "name": "stdout",
     "output_type": "stream",
     "text": [
      "Overall average precision is: 0.932276071014\n",
      "Overall average recall is: 0.942240531652\n",
      "Overall average fscore is: 0.92813983796\n"
     ]
    },
    {
     "name": "stderr",
     "output_type": "stream",
     "text": [
      "/opt/conda/lib/python3.6/site-packages/sklearn/metrics/classification.py:1135: UndefinedMetricWarning: Precision and F-score are ill-defined and being set to 0.0 in labels with no predicted samples.\n",
      "  'precision', 'predicted', average, warn_for)\n"
     ]
    }
   ],
   "source": [
    "# print results of prediction created with pipeline2\n",
    "results2=print_metrics(Y_test, Y_pred2)"
   ]
  },
  {
   "cell_type": "markdown",
   "metadata": {},
   "source": [
    "### 8. Try improving your model further. Here are a few ideas:\n",
    "* try other machine learning algorithms\n",
    "* add other features besides the TF-IDF"
   ]
  },
  {
   "cell_type": "code",
   "execution_count": 31,
   "metadata": {},
   "outputs": [],
   "source": [
    "#create pipeline3, this is based on pipeline2, just with a change of the classifier to AdaBoost\n",
    "pipeline3 = Pipeline([\n",
    "                ('vect', CountVectorizer(tokenizer=tokenize, max_df=0.75, ngram_range=(1, 2))),\n",
    "                ('tfidf', TfidfTransformer()),\n",
    "                ('classifier', MultiOutputClassifier(AdaBoostClassifier(random_state=42)))\n",
    "            ])"
   ]
  },
  {
   "cell_type": "code",
   "execution_count": 32,
   "metadata": {},
   "outputs": [
    {
     "data": {
      "text/plain": [
       "Pipeline(memory=None,\n",
       "     steps=[('vect', CountVectorizer(analyzer='word', binary=False, decode_error='strict',\n",
       "        dtype=<class 'numpy.int64'>, encoding='utf-8', input='content',\n",
       "        lowercase=True, max_df=0.75, max_features=None, min_df=1,\n",
       "        ngram_range=(1, 2), preprocessor=None, stop_words=None,\n",
       "        stri...timator=None,\n",
       "          learning_rate=1.0, n_estimators=50, random_state=42),\n",
       "           n_jobs=1))])"
      ]
     },
     "execution_count": 32,
     "metadata": {},
     "output_type": "execute_result"
    }
   ],
   "source": [
    "#fit defined pipeline3\n",
    "pipeline3.fit(X_train, Y_train)"
   ]
  },
  {
   "cell_type": "code",
   "execution_count": 33,
   "metadata": {},
   "outputs": [],
   "source": [
    "# predict based on pipeline3\n",
    "Y_pred3=pd.DataFrame(pipeline3.predict(X_test))"
   ]
  },
  {
   "cell_type": "code",
   "execution_count": 34,
   "metadata": {},
   "outputs": [],
   "source": [
    "# create pipeline4, again with AdaBoost, but without the parameters from the GRidSeach, these were anyways just specific to the Random Forst Classifier\n",
    "pipeline4 = Pipeline([\n",
    "                ('vect', CountVectorizer(tokenizer=tokenize)),\n",
    "                ('tfidf', TfidfTransformer()),\n",
    "                ('classifier', MultiOutputClassifier(AdaBoostClassifier(random_state=42)))\n",
    "            ])"
   ]
  },
  {
   "cell_type": "code",
   "execution_count": 35,
   "metadata": {},
   "outputs": [
    {
     "data": {
      "text/plain": [
       "Pipeline(memory=None,\n",
       "     steps=[('vect', CountVectorizer(analyzer='word', binary=False, decode_error='strict',\n",
       "        dtype=<class 'numpy.int64'>, encoding='utf-8', input='content',\n",
       "        lowercase=True, max_df=1.0, max_features=None, min_df=1,\n",
       "        ngram_range=(1, 1), preprocessor=None, stop_words=None,\n",
       "        strip...timator=None,\n",
       "          learning_rate=1.0, n_estimators=50, random_state=42),\n",
       "           n_jobs=1))])"
      ]
     },
     "execution_count": 35,
     "metadata": {},
     "output_type": "execute_result"
    }
   ],
   "source": [
    "#Fit the defined pipeline4\n",
    "pipeline4.fit(X_train, Y_train)"
   ]
  },
  {
   "cell_type": "code",
   "execution_count": 36,
   "metadata": {},
   "outputs": [],
   "source": [
    "# create prediction based on pipeline4\n",
    "Y_pred4=pd.DataFrame(pipeline4.predict(X_test))"
   ]
  },
  {
   "cell_type": "markdown",
   "metadata": {},
   "source": [
    "COmpare predictions based on pipeline3 and pipeline4"
   ]
  },
  {
   "cell_type": "code",
   "execution_count": 37,
   "metadata": {},
   "outputs": [
    {
     "name": "stdout",
     "output_type": "stream",
     "text": [
      "Overall average precision is: 0.93758581898\n",
      "Overall average recall is: 0.945597260367\n",
      "Overall average fscore is: 0.938396499505\n"
     ]
    }
   ],
   "source": [
    "results3=print_metrics(Y_test, Y_pred3)"
   ]
  },
  {
   "cell_type": "code",
   "execution_count": 38,
   "metadata": {},
   "outputs": [
    {
     "name": "stdout",
     "output_type": "stream",
     "text": [
      "Overall average precision is: 0.937724588244\n",
      "Overall average recall is: 0.945923608992\n",
      "Overall average fscore is: 0.938442591884\n"
     ]
    }
   ],
   "source": [
    "results4=print_metrics(Y_test, Y_pred4)"
   ]
  },
  {
   "cell_type": "markdown",
   "metadata": {},
   "source": [
    "Overall, best results were given by pipeline4, that is built based on AdaBoost; It could be further refined with GridSearch"
   ]
  },
  {
   "cell_type": "markdown",
   "metadata": {},
   "source": [
    "### 9. Export your model as a pickle file"
   ]
  },
  {
   "cell_type": "code",
   "execution_count": 39,
   "metadata": {},
   "outputs": [],
   "source": [
    "filename = 'model.sav'\n",
    "pickle.dump(pipeline4, open(filename, 'wb'))"
   ]
  },
  {
   "cell_type": "markdown",
   "metadata": {},
   "source": [
    "### 10. Use this notebook to complete `train.py`\n",
    "Use the template file attached in the Resources folder to write a script that runs the steps above to create a database and export a model based on a new dataset specified by the user."
   ]
  },
  {
   "cell_type": "code",
   "execution_count": null,
   "metadata": {},
   "outputs": [],
   "source": []
  }
 ],
 "metadata": {
  "kernelspec": {
   "display_name": "Python 3",
   "language": "python",
   "name": "python3"
  },
  "language_info": {
   "codemirror_mode": {
    "name": "ipython",
    "version": 3
   },
   "file_extension": ".py",
   "mimetype": "text/x-python",
   "name": "python",
   "nbconvert_exporter": "python",
   "pygments_lexer": "ipython3",
   "version": "3.6.3"
  }
 },
 "nbformat": 4,
 "nbformat_minor": 2
}
